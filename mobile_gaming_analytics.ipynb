{
 "cells": [
  {
   "cell_type": "markdown",
   "metadata": {},
   "source": [
    "Представьте, что вы работаете в компании, которая разрабатывает мобильные игры. К вам пришел менеджер с рядом задач по исследованию нескольких аспектов мобильного приложения."
   ]
  },
  {
   "cell_type": "markdown",
   "metadata": {},
   "source": [
    "**Задание 1**\n",
    "\n",
    "Retention – один из самых важных показателей в компании. Ваша задача – написать функцию, которая будет считать retention игроков (по дням от даты регистрации игрока)."
   ]
  },
  {
   "cell_type": "code",
   "execution_count": 2,
   "metadata": {},
   "outputs": [],
   "source": [
    "# импортируем необходимые библиотеки для работы с данными\n",
    "\n",
    "import pandas as pd\n",
    "import numpy as np\n",
    "import seaborn as sns\n",
    "import matplotlib.pyplot as plt\n",
    "import scipy\n",
    "import pingouin as pg \n",
    "OUTDATED_IGNORE=1"
   ]
  },
  {
   "cell_type": "markdown",
   "metadata": {},
   "source": [
    "Для начала загрузим данные и проведем разведочный анализ."
   ]
  },
  {
   "cell_type": "code",
   "execution_count": 3,
   "metadata": {},
   "outputs": [],
   "source": [
    "# создаем датафрейм с данными о времени регистрации пользователей\n",
    "\n",
    "reg_data = pd.read_csv ('../shared/problem1-reg_data.csv', sep = ';') "
   ]
  },
  {
   "cell_type": "code",
   "execution_count": 4,
   "metadata": {},
   "outputs": [
    {
     "data": {
      "text/html": [
       "<div>\n",
       "<style scoped>\n",
       "    .dataframe tbody tr th:only-of-type {\n",
       "        vertical-align: middle;\n",
       "    }\n",
       "\n",
       "    .dataframe tbody tr th {\n",
       "        vertical-align: top;\n",
       "    }\n",
       "\n",
       "    .dataframe thead th {\n",
       "        text-align: right;\n",
       "    }\n",
       "</style>\n",
       "<table border=\"1\" class=\"dataframe\">\n",
       "  <thead>\n",
       "    <tr style=\"text-align: right;\">\n",
       "      <th></th>\n",
       "      <th>reg_ts</th>\n",
       "      <th>uid</th>\n",
       "    </tr>\n",
       "  </thead>\n",
       "  <tbody>\n",
       "    <tr>\n",
       "      <th>0</th>\n",
       "      <td>911382223</td>\n",
       "      <td>1</td>\n",
       "    </tr>\n",
       "    <tr>\n",
       "      <th>1</th>\n",
       "      <td>932683089</td>\n",
       "      <td>2</td>\n",
       "    </tr>\n",
       "    <tr>\n",
       "      <th>2</th>\n",
       "      <td>947802447</td>\n",
       "      <td>3</td>\n",
       "    </tr>\n",
       "    <tr>\n",
       "      <th>3</th>\n",
       "      <td>959523541</td>\n",
       "      <td>4</td>\n",
       "    </tr>\n",
       "    <tr>\n",
       "      <th>4</th>\n",
       "      <td>969103313</td>\n",
       "      <td>5</td>\n",
       "    </tr>\n",
       "  </tbody>\n",
       "</table>\n",
       "</div>"
      ],
      "text/plain": [
       "      reg_ts  uid\n",
       "0  911382223    1\n",
       "1  932683089    2\n",
       "2  947802447    3\n",
       "3  959523541    4\n",
       "4  969103313    5"
      ]
     },
     "execution_count": 4,
     "metadata": {},
     "output_type": "execute_result"
    }
   ],
   "source": [
    "reg_data. head (5) # проверяем корректность отображения данных"
   ]
  },
  {
   "cell_type": "code",
   "execution_count": 5,
   "metadata": {},
   "outputs": [
    {
     "data": {
      "text/plain": [
       "(1000000, 2)"
      ]
     },
     "execution_count": 5,
     "metadata": {},
     "output_type": "execute_result"
    }
   ],
   "source": [
    "reg_data.shape # смотрим размер датафрейма"
   ]
  },
  {
   "cell_type": "code",
   "execution_count": 6,
   "metadata": {},
   "outputs": [
    {
     "data": {
      "text/plain": [
       "True"
      ]
     },
     "execution_count": 6,
     "metadata": {},
     "output_type": "execute_result"
    }
   ],
   "source": [
    "# проверяем отсутствие ошибки повторной регистрации через совпадение количества уникальных пользователей с размером датафрейма\n",
    "\n",
    "reg_data.uid.nunique () == reg_data.shape [0]"
   ]
  },
  {
   "cell_type": "code",
   "execution_count": 7,
   "metadata": {},
   "outputs": [
    {
     "data": {
      "text/plain": [
       "reg_ts    int64\n",
       "uid       int64\n",
       "dtype: object"
      ]
     },
     "execution_count": 7,
     "metadata": {},
     "output_type": "execute_result"
    }
   ],
   "source": [
    "reg_data.dtypes # смотрим типы данных в колонках"
   ]
  },
  {
   "cell_type": "code",
   "execution_count": 8,
   "metadata": {},
   "outputs": [
    {
     "data": {
      "text/plain": [
       "reg_ts    0\n",
       "uid       0\n",
       "dtype: int64"
      ]
     },
     "execution_count": 8,
     "metadata": {},
     "output_type": "execute_result"
    }
   ],
   "source": [
    "reg_data. isna (). sum () # проверяем количество пропущенных значений"
   ]
  },
  {
   "cell_type": "code",
   "execution_count": 9,
   "metadata": {},
   "outputs": [],
   "source": [
    " # создаем датафрейм с данными о времени захода пользователей в игру\n",
    "    \n",
    "auth_data = pd.read_csv ('../shared/problem1-auth_data.csv', sep = ';')"
   ]
  },
  {
   "cell_type": "code",
   "execution_count": 10,
   "metadata": {},
   "outputs": [
    {
     "data": {
      "text/html": [
       "<div>\n",
       "<style scoped>\n",
       "    .dataframe tbody tr th:only-of-type {\n",
       "        vertical-align: middle;\n",
       "    }\n",
       "\n",
       "    .dataframe tbody tr th {\n",
       "        vertical-align: top;\n",
       "    }\n",
       "\n",
       "    .dataframe thead th {\n",
       "        text-align: right;\n",
       "    }\n",
       "</style>\n",
       "<table border=\"1\" class=\"dataframe\">\n",
       "  <thead>\n",
       "    <tr style=\"text-align: right;\">\n",
       "      <th></th>\n",
       "      <th>auth_ts</th>\n",
       "      <th>uid</th>\n",
       "    </tr>\n",
       "  </thead>\n",
       "  <tbody>\n",
       "    <tr>\n",
       "      <th>0</th>\n",
       "      <td>911382223</td>\n",
       "      <td>1</td>\n",
       "    </tr>\n",
       "    <tr>\n",
       "      <th>1</th>\n",
       "      <td>932683089</td>\n",
       "      <td>2</td>\n",
       "    </tr>\n",
       "    <tr>\n",
       "      <th>2</th>\n",
       "      <td>932921206</td>\n",
       "      <td>2</td>\n",
       "    </tr>\n",
       "    <tr>\n",
       "      <th>3</th>\n",
       "      <td>933393015</td>\n",
       "      <td>2</td>\n",
       "    </tr>\n",
       "    <tr>\n",
       "      <th>4</th>\n",
       "      <td>933875379</td>\n",
       "      <td>2</td>\n",
       "    </tr>\n",
       "  </tbody>\n",
       "</table>\n",
       "</div>"
      ],
      "text/plain": [
       "     auth_ts  uid\n",
       "0  911382223    1\n",
       "1  932683089    2\n",
       "2  932921206    2\n",
       "3  933393015    2\n",
       "4  933875379    2"
      ]
     },
     "execution_count": 10,
     "metadata": {},
     "output_type": "execute_result"
    }
   ],
   "source": [
    "auth_data. head (5) # проверяем корректность отображения данных"
   ]
  },
  {
   "cell_type": "code",
   "execution_count": 11,
   "metadata": {},
   "outputs": [
    {
     "data": {
      "text/plain": [
       "(9601013, 2)"
      ]
     },
     "execution_count": 11,
     "metadata": {},
     "output_type": "execute_result"
    }
   ],
   "source": [
    "auth_data.shape # смотрим размер датафрейма"
   ]
  },
  {
   "cell_type": "code",
   "execution_count": 12,
   "metadata": {},
   "outputs": [
    {
     "data": {
      "text/plain": [
       "True"
      ]
     },
     "execution_count": 12,
     "metadata": {},
     "output_type": "execute_result"
    }
   ],
   "source": [
    "# проверяем корректность логирования входа в игру (только зарегистрированные пользователи могут играть)\n",
    "\n",
    "auth_data.uid.nunique () == reg_data.uid.nunique ()"
   ]
  },
  {
   "cell_type": "code",
   "execution_count": 13,
   "metadata": {},
   "outputs": [
    {
     "data": {
      "text/plain": [
       "auth_ts    int64\n",
       "uid        int64\n",
       "dtype: object"
      ]
     },
     "execution_count": 13,
     "metadata": {},
     "output_type": "execute_result"
    }
   ],
   "source": [
    "auth_data.dtypes # смотрим типы данных в колонках"
   ]
  },
  {
   "cell_type": "code",
   "execution_count": 14,
   "metadata": {
    "scrolled": true
   },
   "outputs": [
    {
     "data": {
      "text/plain": [
       "auth_ts    0\n",
       "uid        0\n",
       "dtype: int64"
      ]
     },
     "execution_count": 14,
     "metadata": {},
     "output_type": "execute_result"
    }
   ],
   "source": [
    "auth_data. isna (). sum () # проверяем количество пропущенных значений"
   ]
  },
  {
   "cell_type": "code",
   "execution_count": 15,
   "metadata": {},
   "outputs": [
    {
     "data": {
      "text/plain": [
       "9.6"
      ]
     },
     "execution_count": 15,
     "metadata": {},
     "output_type": "execute_result"
    }
   ],
   "source": [
    "# в среднем на каждую регистрацию мы получаем 9.6 заходов в игру\n",
    "\n",
    "round (auth_data.shape [0] / reg_data.shape [0], 1)"
   ]
  },
  {
   "cell_type": "markdown",
   "metadata": {},
   "source": [
    "Как мы видим, данные загрузились корректно, пропущенные значения отстутствуют. В обоих датафремах присутствует колонка uid - уникальный идентификатор пользователей и колока со временем регистрации в формате Unix timestamp. В датафреме с заходами пользователей в игру больше данных, чем в датафрейме с регистрацией и мы вычислили, что в среднем на каждую регистрацию приходится 9.6 заходов в игру. "
   ]
  },
  {
   "cell_type": "markdown",
   "metadata": {},
   "source": [
    "Закончив с разведочным анализом, перейдем к трансформации датафреймов. Для начала нужно перевести колонки со временем в формат datetime. Расчитывать retention мы будем по дням, поэтому часы, минуты и секунды нам не понадобятся."
   ]
  },
  {
   "cell_type": "code",
   "execution_count": 16,
   "metadata": {},
   "outputs": [],
   "source": [
    "reg_data.reg_ts = pd.to_datetime (reg_data.reg_ts, unit = 's') # переводим таймстепм в формат datetime\n",
    "\n",
    "reg_data.reg_ts = reg_data.reg_ts.map (lambda x: x.strftime('%Y-%m-%d')) # преобразуем datetime в строку и обрезаем часы, минуты и секунды\n",
    "\n",
    "reg_data.reg_ts = pd.to_datetime (reg_data.reg_ts) # переводим строку с преобразованной датой обратно в формат datetime"
   ]
  },
  {
   "cell_type": "code",
   "execution_count": 17,
   "metadata": {},
   "outputs": [],
   "source": [
    "# проводим те же преобразования с другим датафреймом\n",
    "\n",
    "auth_data.auth_ts = pd.to_datetime (auth_data.auth_ts, unit = 's')\n",
    "auth_data.auth_ts = auth_data.auth_ts.map (lambda x: x.strftime('%Y-%m-%d'))\n",
    "auth_data.auth_ts = pd.to_datetime (auth_data.auth_ts)"
   ]
  },
  {
   "cell_type": "code",
   "execution_count": 18,
   "metadata": {},
   "outputs": [],
   "source": [
    "# объединяем датафреймы по общей колонке и записываем результат в новый датафрейм\n",
    "\n",
    "df = reg_data.merge (auth_data, on = 'uid')"
   ]
  },
  {
   "cell_type": "code",
   "execution_count": 19,
   "metadata": {},
   "outputs": [
    {
     "data": {
      "text/html": [
       "<div>\n",
       "<style scoped>\n",
       "    .dataframe tbody tr th:only-of-type {\n",
       "        vertical-align: middle;\n",
       "    }\n",
       "\n",
       "    .dataframe tbody tr th {\n",
       "        vertical-align: top;\n",
       "    }\n",
       "\n",
       "    .dataframe thead th {\n",
       "        text-align: right;\n",
       "    }\n",
       "</style>\n",
       "<table border=\"1\" class=\"dataframe\">\n",
       "  <thead>\n",
       "    <tr style=\"text-align: right;\">\n",
       "      <th></th>\n",
       "      <th>reg_ts</th>\n",
       "      <th>uid</th>\n",
       "      <th>auth_ts</th>\n",
       "    </tr>\n",
       "  </thead>\n",
       "  <tbody>\n",
       "    <tr>\n",
       "      <th>0</th>\n",
       "      <td>1998-11-18</td>\n",
       "      <td>1</td>\n",
       "      <td>1998-11-18</td>\n",
       "    </tr>\n",
       "    <tr>\n",
       "      <th>1</th>\n",
       "      <td>1999-07-22</td>\n",
       "      <td>2</td>\n",
       "      <td>1999-07-22</td>\n",
       "    </tr>\n",
       "    <tr>\n",
       "      <th>2</th>\n",
       "      <td>1999-07-22</td>\n",
       "      <td>2</td>\n",
       "      <td>1999-07-25</td>\n",
       "    </tr>\n",
       "    <tr>\n",
       "      <th>3</th>\n",
       "      <td>1999-07-22</td>\n",
       "      <td>2</td>\n",
       "      <td>1999-07-31</td>\n",
       "    </tr>\n",
       "    <tr>\n",
       "      <th>4</th>\n",
       "      <td>1999-07-22</td>\n",
       "      <td>2</td>\n",
       "      <td>1999-08-05</td>\n",
       "    </tr>\n",
       "  </tbody>\n",
       "</table>\n",
       "</div>"
      ],
      "text/plain": [
       "      reg_ts  uid    auth_ts\n",
       "0 1998-11-18    1 1998-11-18\n",
       "1 1999-07-22    2 1999-07-22\n",
       "2 1999-07-22    2 1999-07-25\n",
       "3 1999-07-22    2 1999-07-31\n",
       "4 1999-07-22    2 1999-08-05"
      ]
     },
     "execution_count": 19,
     "metadata": {},
     "output_type": "execute_result"
    }
   ],
   "source": [
    "df.head (5) # проверяем корректность отображения данных"
   ]
  },
  {
   "cell_type": "code",
   "execution_count": 20,
   "metadata": {},
   "outputs": [
    {
     "data": {
      "text/plain": [
       "(9601013, 3)"
      ]
     },
     "execution_count": 20,
     "metadata": {},
     "output_type": "execute_result"
    }
   ],
   "source": [
    "df.shape # смотрим размер датафрейма"
   ]
  },
  {
   "cell_type": "code",
   "execution_count": 21,
   "metadata": {},
   "outputs": [
    {
     "data": {
      "text/html": [
       "<div>\n",
       "<style scoped>\n",
       "    .dataframe tbody tr th:only-of-type {\n",
       "        vertical-align: middle;\n",
       "    }\n",
       "\n",
       "    .dataframe tbody tr th {\n",
       "        vertical-align: top;\n",
       "    }\n",
       "\n",
       "    .dataframe thead th {\n",
       "        text-align: right;\n",
       "    }\n",
       "</style>\n",
       "<table border=\"1\" class=\"dataframe\">\n",
       "  <thead>\n",
       "    <tr style=\"text-align: right;\">\n",
       "      <th></th>\n",
       "      <th>reg_ts</th>\n",
       "      <th>uid</th>\n",
       "      <th>auth_ts</th>\n",
       "    </tr>\n",
       "  </thead>\n",
       "  <tbody>\n",
       "  </tbody>\n",
       "</table>\n",
       "</div>"
      ],
      "text/plain": [
       "Empty DataFrame\n",
       "Columns: [reg_ts, uid, auth_ts]\n",
       "Index: []"
      ]
     },
     "execution_count": 21,
     "metadata": {},
     "output_type": "execute_result"
    }
   ],
   "source": [
    "df.loc[df.duplicated()] # проверяем наличие дубликатов"
   ]
  },
  {
   "cell_type": "code",
   "execution_count": 22,
   "metadata": {},
   "outputs": [
    {
     "data": {
      "text/plain": [
       "[Timestamp('1998-11-18 00:00:00'), Timestamp('2020-09-23 00:00:00')]"
      ]
     },
     "execution_count": 22,
     "metadata": {},
     "output_type": "execute_result"
    }
   ],
   "source": [
    "[df.reg_ts.min (), df.reg_ts.max ()] # смотрим диапазон дат регистрации пользователей в датафрейме"
   ]
  },
  {
   "cell_type": "markdown",
   "metadata": {},
   "source": [
    "В результате объединения исходных датафреймов мы получили новый, где каждому уникальному пользователю сопоставляется дата регистрации и даты всех его заходов в игру. При этом в новом датафрейме нет дубликатов, что может свидетельствовать о том, что данные логируются верно и для каждого уникального пользователя один раз за день фиксируются данные о его аутентификации в приложении. Это предоставляет нам возможность создать колонку с разницой дней между датами входа и датой регистрации для каждой даты регистрации и уникального пользователя. Эта колонка пригодится нам для расчета retention."
   ]
  },
  {
   "cell_type": "code",
   "execution_count": 23,
   "metadata": {},
   "outputs": [],
   "source": [
    "df ['n_days'] = df.auth_ts - df.reg_ts # создаем колонку с разницей дней"
   ]
  },
  {
   "cell_type": "markdown",
   "metadata": {},
   "source": [
    "Теперь нам нужно предоставить возможность менеджеру самому выбирать по каким дням он хочет посмотреть когорты пользователей и до какого дня удержания. Для этого создадим две переменных, в которые можно будет вручную вносить нужные значения в виде списка.\n",
    "\n",
    "Мы заполним ради примера эти переменные произвольными значениями."
   ]
  },
  {
   "cell_type": "code",
   "execution_count": 29,
   "metadata": {},
   "outputs": [],
   "source": [
    "# создаем переменную cohorts, в которую можно вносить интересующие дни регистрации пользователей\n",
    "# создаем переменную days, в которую можно вносить интересующие дни удержания пользователей\n",
    "\n",
    "cohorts = ['2020-09-01', '2020-09-02', '2020-09-03', '2020-09-04', '2020-09-05']\n",
    "days = ['0 days', '1 days', '2 days', '3 days', '4 days', '5 days', '6 days', '7 days']"
   ]
  },
  {
   "cell_type": "code",
   "execution_count": 30,
   "metadata": {},
   "outputs": [],
   "source": [
    "# отбираем нужные нам данные в общем датафрейме и записываем их в новый датафрейм\n",
    "\n",
    "data = df.query ('reg_ts == @cohorts & n_days == @days')"
   ]
  },
  {
   "cell_type": "code",
   "execution_count": 31,
   "metadata": {},
   "outputs": [
    {
     "data": {
      "text/html": [
       "<div>\n",
       "<style scoped>\n",
       "    .dataframe tbody tr th:only-of-type {\n",
       "        vertical-align: middle;\n",
       "    }\n",
       "\n",
       "    .dataframe tbody tr th {\n",
       "        vertical-align: top;\n",
       "    }\n",
       "\n",
       "    .dataframe thead th {\n",
       "        text-align: right;\n",
       "    }\n",
       "</style>\n",
       "<table border=\"1\" class=\"dataframe\">\n",
       "  <thead>\n",
       "    <tr style=\"text-align: right;\">\n",
       "      <th></th>\n",
       "      <th>reg_ts</th>\n",
       "      <th>uid</th>\n",
       "      <th>auth_ts</th>\n",
       "      <th>n_days</th>\n",
       "    </tr>\n",
       "  </thead>\n",
       "  <tbody>\n",
       "    <tr>\n",
       "      <th>9545203</th>\n",
       "      <td>2020-09-01</td>\n",
       "      <td>1070035</td>\n",
       "      <td>2020-09-01</td>\n",
       "      <td>0 days</td>\n",
       "    </tr>\n",
       "    <tr>\n",
       "      <th>9545204</th>\n",
       "      <td>2020-09-01</td>\n",
       "      <td>1070035</td>\n",
       "      <td>2020-09-02</td>\n",
       "      <td>1 days</td>\n",
       "    </tr>\n",
       "    <tr>\n",
       "      <th>9545209</th>\n",
       "      <td>2020-09-01</td>\n",
       "      <td>1070036</td>\n",
       "      <td>2020-09-01</td>\n",
       "      <td>0 days</td>\n",
       "    </tr>\n",
       "    <tr>\n",
       "      <th>9545210</th>\n",
       "      <td>2020-09-01</td>\n",
       "      <td>1070037</td>\n",
       "      <td>2020-09-01</td>\n",
       "      <td>0 days</td>\n",
       "    </tr>\n",
       "    <tr>\n",
       "      <th>9545211</th>\n",
       "      <td>2020-09-01</td>\n",
       "      <td>1070038</td>\n",
       "      <td>2020-09-01</td>\n",
       "      <td>0 days</td>\n",
       "    </tr>\n",
       "  </tbody>\n",
       "</table>\n",
       "</div>"
      ],
      "text/plain": [
       "            reg_ts      uid    auth_ts n_days\n",
       "9545203 2020-09-01  1070035 2020-09-01 0 days\n",
       "9545204 2020-09-01  1070035 2020-09-02 1 days\n",
       "9545209 2020-09-01  1070036 2020-09-01 0 days\n",
       "9545210 2020-09-01  1070037 2020-09-01 0 days\n",
       "9545211 2020-09-01  1070038 2020-09-01 0 days"
      ]
     },
     "execution_count": 31,
     "metadata": {},
     "output_type": "execute_result"
    }
   ],
   "source": [
    "data.head()"
   ]
  },
  {
   "cell_type": "markdown",
   "metadata": {},
   "source": [
    "Далее посчитаем для каждой когорты пользователей по дате регистрации количество их заходов в игру для каждого n-ного дня и запишем результат в новый датафрейм."
   ]
  },
  {
   "cell_type": "code",
   "execution_count": 32,
   "metadata": {},
   "outputs": [],
   "source": [
    "# группируем датафрейм по дате регистрации и номеру дня, считаем количество уникальных пользователей,\n",
    "# переименовываем колонку с ними и записываем результат в новый датафрейм\n",
    "\n",
    "df_ret = data. groupby (['reg_ts', 'n_days'], as_index = False) \\\n",
    "            .agg ({'uid': 'nunique'}). rename (columns = {'uid': 'n_users'})"
   ]
  },
  {
   "cell_type": "code",
   "execution_count": 33,
   "metadata": {},
   "outputs": [
    {
     "data": {
      "text/html": [
       "<div>\n",
       "<style scoped>\n",
       "    .dataframe tbody tr th:only-of-type {\n",
       "        vertical-align: middle;\n",
       "    }\n",
       "\n",
       "    .dataframe tbody tr th {\n",
       "        vertical-align: top;\n",
       "    }\n",
       "\n",
       "    .dataframe thead th {\n",
       "        text-align: right;\n",
       "    }\n",
       "</style>\n",
       "<table border=\"1\" class=\"dataframe\">\n",
       "  <thead>\n",
       "    <tr style=\"text-align: right;\">\n",
       "      <th></th>\n",
       "      <th>reg_ts</th>\n",
       "      <th>n_days</th>\n",
       "      <th>n_users</th>\n",
       "    </tr>\n",
       "  </thead>\n",
       "  <tbody>\n",
       "    <tr>\n",
       "      <th>0</th>\n",
       "      <td>2020-09-01</td>\n",
       "      <td>0 days</td>\n",
       "      <td>1586</td>\n",
       "    </tr>\n",
       "    <tr>\n",
       "      <th>1</th>\n",
       "      <td>2020-09-01</td>\n",
       "      <td>1 days</td>\n",
       "      <td>32</td>\n",
       "    </tr>\n",
       "    <tr>\n",
       "      <th>2</th>\n",
       "      <td>2020-09-01</td>\n",
       "      <td>2 days</td>\n",
       "      <td>65</td>\n",
       "    </tr>\n",
       "    <tr>\n",
       "      <th>3</th>\n",
       "      <td>2020-09-01</td>\n",
       "      <td>3 days</td>\n",
       "      <td>67</td>\n",
       "    </tr>\n",
       "    <tr>\n",
       "      <th>4</th>\n",
       "      <td>2020-09-01</td>\n",
       "      <td>4 days</td>\n",
       "      <td>73</td>\n",
       "    </tr>\n",
       "  </tbody>\n",
       "</table>\n",
       "</div>"
      ],
      "text/plain": [
       "      reg_ts n_days  n_users\n",
       "0 2020-09-01 0 days     1586\n",
       "1 2020-09-01 1 days       32\n",
       "2 2020-09-01 2 days       65\n",
       "3 2020-09-01 3 days       67\n",
       "4 2020-09-01 4 days       73"
      ]
     },
     "execution_count": 33,
     "metadata": {},
     "output_type": "execute_result"
    }
   ],
   "source": [
    "df_ret.head()"
   ]
  },
  {
   "cell_type": "markdown",
   "metadata": {},
   "source": [
    "Day N Retention рассчитывается как процент пользователей, которые пришли в приложение спустя n дней после регистрации. Для его расчета нам нужно сначала создать колонку с количеством пользователей, зашедших в приложение в день регистрации для каждой даты регистрации."
   ]
  },
  {
   "cell_type": "code",
   "execution_count": 34,
   "metadata": {},
   "outputs": [],
   "source": [
    "# фильтруем предудыщий датафрейм по нужному значению, убираем лишнюю колонку и переименовываем другую колонку\n",
    "\n",
    "df_0_ret = df_ret. query ('n_days == \"0 days\"') \\\n",
    "                .drop (columns = 'n_days'). rename (columns = {'n_users': 'n_users_zero'})"
   ]
  },
  {
   "cell_type": "code",
   "execution_count": 35,
   "metadata": {},
   "outputs": [
    {
     "data": {
      "text/html": [
       "<div>\n",
       "<style scoped>\n",
       "    .dataframe tbody tr th:only-of-type {\n",
       "        vertical-align: middle;\n",
       "    }\n",
       "\n",
       "    .dataframe tbody tr th {\n",
       "        vertical-align: top;\n",
       "    }\n",
       "\n",
       "    .dataframe thead th {\n",
       "        text-align: right;\n",
       "    }\n",
       "</style>\n",
       "<table border=\"1\" class=\"dataframe\">\n",
       "  <thead>\n",
       "    <tr style=\"text-align: right;\">\n",
       "      <th></th>\n",
       "      <th>reg_ts</th>\n",
       "      <th>n_users_zero</th>\n",
       "    </tr>\n",
       "  </thead>\n",
       "  <tbody>\n",
       "    <tr>\n",
       "      <th>0</th>\n",
       "      <td>2020-09-01</td>\n",
       "      <td>1586</td>\n",
       "    </tr>\n",
       "    <tr>\n",
       "      <th>8</th>\n",
       "      <td>2020-09-02</td>\n",
       "      <td>1588</td>\n",
       "    </tr>\n",
       "    <tr>\n",
       "      <th>16</th>\n",
       "      <td>2020-09-03</td>\n",
       "      <td>1591</td>\n",
       "    </tr>\n",
       "    <tr>\n",
       "      <th>24</th>\n",
       "      <td>2020-09-04</td>\n",
       "      <td>1593</td>\n",
       "    </tr>\n",
       "    <tr>\n",
       "      <th>32</th>\n",
       "      <td>2020-09-05</td>\n",
       "      <td>1596</td>\n",
       "    </tr>\n",
       "  </tbody>\n",
       "</table>\n",
       "</div>"
      ],
      "text/plain": [
       "       reg_ts  n_users_zero\n",
       "0  2020-09-01          1586\n",
       "8  2020-09-02          1588\n",
       "16 2020-09-03          1591\n",
       "24 2020-09-04          1593\n",
       "32 2020-09-05          1596"
      ]
     },
     "execution_count": 35,
     "metadata": {},
     "output_type": "execute_result"
    }
   ],
   "source": [
    "df_0_ret.head()"
   ]
  },
  {
   "cell_type": "code",
   "execution_count": 36,
   "metadata": {},
   "outputs": [],
   "source": [
    "pd.options.mode.chained_assignment = None # отключаем прежупреждения, поскольку мы внимательно следим за всеми изменениями"
   ]
  },
  {
   "cell_type": "markdown",
   "metadata": {},
   "source": [
    "Теперь объединим эти датафреймы по дате регистрации в общий датафрейм для расчета retention"
   ]
  },
  {
   "cell_type": "code",
   "execution_count": 38,
   "metadata": {},
   "outputs": [],
   "source": [
    "df_reten = df_ret. merge (df_0_ret, on = 'reg_ts')"
   ]
  },
  {
   "cell_type": "code",
   "execution_count": 39,
   "metadata": {},
   "outputs": [
    {
     "data": {
      "text/html": [
       "<div>\n",
       "<style scoped>\n",
       "    .dataframe tbody tr th:only-of-type {\n",
       "        vertical-align: middle;\n",
       "    }\n",
       "\n",
       "    .dataframe tbody tr th {\n",
       "        vertical-align: top;\n",
       "    }\n",
       "\n",
       "    .dataframe thead th {\n",
       "        text-align: right;\n",
       "    }\n",
       "</style>\n",
       "<table border=\"1\" class=\"dataframe\">\n",
       "  <thead>\n",
       "    <tr style=\"text-align: right;\">\n",
       "      <th></th>\n",
       "      <th>reg_ts</th>\n",
       "      <th>n_days</th>\n",
       "      <th>n_users</th>\n",
       "      <th>n_users_zero</th>\n",
       "    </tr>\n",
       "  </thead>\n",
       "  <tbody>\n",
       "    <tr>\n",
       "      <th>0</th>\n",
       "      <td>2020-09-01</td>\n",
       "      <td>0 days</td>\n",
       "      <td>1586</td>\n",
       "      <td>1586</td>\n",
       "    </tr>\n",
       "    <tr>\n",
       "      <th>1</th>\n",
       "      <td>2020-09-01</td>\n",
       "      <td>1 days</td>\n",
       "      <td>32</td>\n",
       "      <td>1586</td>\n",
       "    </tr>\n",
       "    <tr>\n",
       "      <th>2</th>\n",
       "      <td>2020-09-01</td>\n",
       "      <td>2 days</td>\n",
       "      <td>65</td>\n",
       "      <td>1586</td>\n",
       "    </tr>\n",
       "    <tr>\n",
       "      <th>3</th>\n",
       "      <td>2020-09-01</td>\n",
       "      <td>3 days</td>\n",
       "      <td>67</td>\n",
       "      <td>1586</td>\n",
       "    </tr>\n",
       "    <tr>\n",
       "      <th>4</th>\n",
       "      <td>2020-09-01</td>\n",
       "      <td>4 days</td>\n",
       "      <td>73</td>\n",
       "      <td>1586</td>\n",
       "    </tr>\n",
       "  </tbody>\n",
       "</table>\n",
       "</div>"
      ],
      "text/plain": [
       "      reg_ts n_days  n_users  n_users_zero\n",
       "0 2020-09-01 0 days     1586          1586\n",
       "1 2020-09-01 1 days       32          1586\n",
       "2 2020-09-01 2 days       65          1586\n",
       "3 2020-09-01 3 days       67          1586\n",
       "4 2020-09-01 4 days       73          1586"
      ]
     },
     "execution_count": 39,
     "metadata": {},
     "output_type": "execute_result"
    }
   ],
   "source": [
    "df_reten.head()"
   ]
  },
  {
   "cell_type": "markdown",
   "metadata": {},
   "source": [
    "Далее следует избавиться от колонок с нулевым днем, так как они не дадут нам никакой ценной информации при расчете удержания (поскольку нулевой день - это день регистрации и удержание в нем всегда будет 100%)"
   ]
  },
  {
   "cell_type": "code",
   "execution_count": 40,
   "metadata": {},
   "outputs": [],
   "source": [
    "# оставляем значения ненулевых дней и записываем в новый датафрейм\n",
    "\n",
    "df_reten = df_reten. query ('n_days != \"0 days\"')"
   ]
  },
  {
   "cell_type": "code",
   "execution_count": 41,
   "metadata": {},
   "outputs": [],
   "source": [
    "# делим количество пользователей в n-ный день на количество пользователей в день регистрации и записываем результат в новую колонку\n",
    "\n",
    "df_reten ['retention'] = df_reten.n_users / df_reten.n_users_zero"
   ]
  },
  {
   "cell_type": "code",
   "execution_count": 42,
   "metadata": {},
   "outputs": [],
   "source": [
    "# приводим данные в нужный формат для адекватного отображения на графике\n",
    "\n",
    "df_reten.n_days = df_reten.n_days.astype ('str')\n",
    "df_reten.reg_ts = df_reten.reg_ts.astype ('str')"
   ]
  },
  {
   "cell_type": "code",
   "execution_count": 43,
   "metadata": {},
   "outputs": [
    {
     "data": {
      "text/html": [
       "<div>\n",
       "<style scoped>\n",
       "    .dataframe tbody tr th:only-of-type {\n",
       "        vertical-align: middle;\n",
       "    }\n",
       "\n",
       "    .dataframe tbody tr th {\n",
       "        vertical-align: top;\n",
       "    }\n",
       "\n",
       "    .dataframe thead th {\n",
       "        text-align: right;\n",
       "    }\n",
       "</style>\n",
       "<table border=\"1\" class=\"dataframe\">\n",
       "  <thead>\n",
       "    <tr style=\"text-align: right;\">\n",
       "      <th></th>\n",
       "      <th>reg_ts</th>\n",
       "      <th>n_days</th>\n",
       "      <th>n_users</th>\n",
       "      <th>n_users_zero</th>\n",
       "      <th>retention</th>\n",
       "    </tr>\n",
       "  </thead>\n",
       "  <tbody>\n",
       "    <tr>\n",
       "      <th>1</th>\n",
       "      <td>2020-09-01</td>\n",
       "      <td>1 days</td>\n",
       "      <td>32</td>\n",
       "      <td>1586</td>\n",
       "      <td>0.020177</td>\n",
       "    </tr>\n",
       "    <tr>\n",
       "      <th>2</th>\n",
       "      <td>2020-09-01</td>\n",
       "      <td>2 days</td>\n",
       "      <td>65</td>\n",
       "      <td>1586</td>\n",
       "      <td>0.040984</td>\n",
       "    </tr>\n",
       "    <tr>\n",
       "      <th>3</th>\n",
       "      <td>2020-09-01</td>\n",
       "      <td>3 days</td>\n",
       "      <td>67</td>\n",
       "      <td>1586</td>\n",
       "      <td>0.042245</td>\n",
       "    </tr>\n",
       "    <tr>\n",
       "      <th>4</th>\n",
       "      <td>2020-09-01</td>\n",
       "      <td>4 days</td>\n",
       "      <td>73</td>\n",
       "      <td>1586</td>\n",
       "      <td>0.046028</td>\n",
       "    </tr>\n",
       "    <tr>\n",
       "      <th>5</th>\n",
       "      <td>2020-09-01</td>\n",
       "      <td>5 days</td>\n",
       "      <td>102</td>\n",
       "      <td>1586</td>\n",
       "      <td>0.064313</td>\n",
       "    </tr>\n",
       "  </tbody>\n",
       "</table>\n",
       "</div>"
      ],
      "text/plain": [
       "       reg_ts  n_days  n_users  n_users_zero  retention\n",
       "1  2020-09-01  1 days       32          1586   0.020177\n",
       "2  2020-09-01  2 days       65          1586   0.040984\n",
       "3  2020-09-01  3 days       67          1586   0.042245\n",
       "4  2020-09-01  4 days       73          1586   0.046028\n",
       "5  2020-09-01  5 days      102          1586   0.064313"
      ]
     },
     "execution_count": 43,
     "metadata": {},
     "output_type": "execute_result"
    }
   ],
   "source": [
    "df_reten.head()"
   ]
  },
  {
   "cell_type": "markdown",
   "metadata": {},
   "source": [
    "Теперь нам нужно избавиться от лишних колонок и преобразовать датафрейм в таблицу для построения heatmap"
   ]
  },
  {
   "cell_type": "code",
   "execution_count": 44,
   "metadata": {},
   "outputs": [],
   "source": [
    "# избавляемся от лишних колонок\n",
    "\n",
    "df_reten = df_reten.drop (columns = ['n_users', 'n_users_zero'])"
   ]
  },
  {
   "cell_type": "code",
   "execution_count": 45,
   "metadata": {},
   "outputs": [],
   "source": [
    "# преобразуем датафрейм и записываем результат в новую переменную\n",
    "\n",
    "df_retention = df_reten.pivot (index = 'reg_ts', columns = 'n_days', values = 'retention')"
   ]
  },
  {
   "cell_type": "code",
   "execution_count": 46,
   "metadata": {},
   "outputs": [
    {
     "data": {
      "text/html": [
       "<div>\n",
       "<style scoped>\n",
       "    .dataframe tbody tr th:only-of-type {\n",
       "        vertical-align: middle;\n",
       "    }\n",
       "\n",
       "    .dataframe tbody tr th {\n",
       "        vertical-align: top;\n",
       "    }\n",
       "\n",
       "    .dataframe thead th {\n",
       "        text-align: right;\n",
       "    }\n",
       "</style>\n",
       "<table border=\"1\" class=\"dataframe\">\n",
       "  <thead>\n",
       "    <tr style=\"text-align: right;\">\n",
       "      <th>n_days</th>\n",
       "      <th>1 days</th>\n",
       "      <th>2 days</th>\n",
       "      <th>3 days</th>\n",
       "      <th>4 days</th>\n",
       "      <th>5 days</th>\n",
       "      <th>6 days</th>\n",
       "      <th>7 days</th>\n",
       "    </tr>\n",
       "    <tr>\n",
       "      <th>reg_ts</th>\n",
       "      <th></th>\n",
       "      <th></th>\n",
       "      <th></th>\n",
       "      <th></th>\n",
       "      <th></th>\n",
       "      <th></th>\n",
       "      <th></th>\n",
       "    </tr>\n",
       "  </thead>\n",
       "  <tbody>\n",
       "    <tr>\n",
       "      <th>2020-09-01</th>\n",
       "      <td>0.020177</td>\n",
       "      <td>0.040984</td>\n",
       "      <td>0.042245</td>\n",
       "      <td>0.046028</td>\n",
       "      <td>0.064313</td>\n",
       "      <td>0.056116</td>\n",
       "      <td>0.064313</td>\n",
       "    </tr>\n",
       "    <tr>\n",
       "      <th>2020-09-02</th>\n",
       "      <td>0.025189</td>\n",
       "      <td>0.039043</td>\n",
       "      <td>0.046599</td>\n",
       "      <td>0.056675</td>\n",
       "      <td>0.062343</td>\n",
       "      <td>0.071159</td>\n",
       "      <td>0.062972</td>\n",
       "    </tr>\n",
       "    <tr>\n",
       "      <th>2020-09-03</th>\n",
       "      <td>0.023256</td>\n",
       "      <td>0.054054</td>\n",
       "      <td>0.047140</td>\n",
       "      <td>0.065368</td>\n",
       "      <td>0.069767</td>\n",
       "      <td>0.085481</td>\n",
       "      <td>0.063482</td>\n",
       "    </tr>\n",
       "    <tr>\n",
       "      <th>2020-09-04</th>\n",
       "      <td>0.020088</td>\n",
       "      <td>0.036409</td>\n",
       "      <td>0.036409</td>\n",
       "      <td>0.051475</td>\n",
       "      <td>0.064030</td>\n",
       "      <td>0.072819</td>\n",
       "      <td>0.049592</td>\n",
       "    </tr>\n",
       "    <tr>\n",
       "      <th>2020-09-05</th>\n",
       "      <td>0.027569</td>\n",
       "      <td>0.039474</td>\n",
       "      <td>0.046366</td>\n",
       "      <td>0.054511</td>\n",
       "      <td>0.058897</td>\n",
       "      <td>0.074561</td>\n",
       "      <td>0.048872</td>\n",
       "    </tr>\n",
       "  </tbody>\n",
       "</table>\n",
       "</div>"
      ],
      "text/plain": [
       "n_days        1 days    2 days    3 days    4 days    5 days    6 days  \\\n",
       "reg_ts                                                                   \n",
       "2020-09-01  0.020177  0.040984  0.042245  0.046028  0.064313  0.056116   \n",
       "2020-09-02  0.025189  0.039043  0.046599  0.056675  0.062343  0.071159   \n",
       "2020-09-03  0.023256  0.054054  0.047140  0.065368  0.069767  0.085481   \n",
       "2020-09-04  0.020088  0.036409  0.036409  0.051475  0.064030  0.072819   \n",
       "2020-09-05  0.027569  0.039474  0.046366  0.054511  0.058897  0.074561   \n",
       "\n",
       "n_days        7 days  \n",
       "reg_ts                \n",
       "2020-09-01  0.064313  \n",
       "2020-09-02  0.062972  \n",
       "2020-09-03  0.063482  \n",
       "2020-09-04  0.049592  \n",
       "2020-09-05  0.048872  "
      ]
     },
     "execution_count": 46,
     "metadata": {},
     "output_type": "execute_result"
    }
   ],
   "source": [
    "df_retention"
   ]
  },
  {
   "cell_type": "markdown",
   "metadata": {},
   "source": [
    "Теперь можно строить график"
   ]
  },
  {
   "cell_type": "code",
   "execution_count": 47,
   "metadata": {},
   "outputs": [
    {
     "data": {
      "text/plain": [
       "Text(0.5, 24.0, 'Дней после регистрации')"
      ]
     },
     "execution_count": 47,
     "metadata": {},
     "output_type": "execute_result"
    },
    {
     "data": {
      "image/png": "[encoded data removed]",
      "text/plain": [
       "<Figure size 936x360 with 2 Axes>"
      ]
     },
     "metadata": {
      "needs_background": "light"
     },
     "output_type": "display_data"
    }
   ],
   "source": [
    "fig, ax = plt.subplots(figsize=(13, 5))\n",
    "sns.heatmap (df_retention, annot=True, fmt='.2%', cmap = 'Reds', vmin=0.01, vmax=0.08)\n",
    "\n",
    "plt.title('Retention Rate')\n",
    "plt.ylabel('Когорта')\n",
    "plt.xlabel('Дней после регистрации')"
   ]
  },
  {
   "cell_type": "markdown",
   "metadata": {},
   "source": [
    "Теперь упакуем наш алгоритм расчета retention и построения соответствующего графика в тело питоновской функции"
   ]
  },
  {
   "cell_type": "code",
   "execution_count": 48,
   "metadata": {},
   "outputs": [
    {
     "data": {
      "image/png": "[encoded data removed]",
      "text/plain": [
       "<Figure size 936x360 with 2 Axes>"
      ]
     },
     "metadata": {
      "needs_background": "light"
     },
     "output_type": "display_data"
    }
   ],
   "source": [
    "def retention (reg_data, auth_data):\n",
    "    \n",
    "    reg_data.reg_ts = pd.to_datetime (reg_data.reg_ts, unit = 's')\n",
    "    reg_data.reg_ts = reg_data.reg_ts.map (lambda x: x.strftime('%Y-%m-%d'))\n",
    "    reg_data.reg_ts = pd.to_datetime (reg_data.reg_ts)\n",
    "    \n",
    "    auth_data.auth_ts = pd.to_datetime (auth_data.auth_ts, unit = 's')\n",
    "    auth_data.auth_ts = auth_data.auth_ts.map (lambda x: x.strftime('%Y-%m-%d'))\n",
    "    auth_data.auth_ts = pd.to_datetime (auth_data.auth_ts)\n",
    "    \n",
    "    df = reg_data.merge (auth_data, on = 'uid')\n",
    "    df ['n_days'] = df.auth_ts - df.reg_ts\n",
    "    \n",
    "    # в переменной cohorts нужно перечислить через запятую интересующие даты регистрации пользователей в формате 'YYMMDD'\n",
    "    cohorts = ['2020-09-01', '2020-09-02', '2020-09-03', '2020-09-04', '2020-09-05'] \n",
    "    \n",
    "    # в переменной days нужно перечислить через запятую интересующие дни удержания пользователей в формате 'n days'\n",
    "    days = ['0 days', '1 days', '2 days', '3 days', '4 days', '5 days', '6 days', '7 days']\n",
    "    \n",
    "    data = df.query ('reg_ts == @cohorts & n_days == @days')\n",
    "    \n",
    "    df_ret = data. groupby (['reg_ts', 'n_days'], as_index = False). agg ({'uid': 'nunique'}) \\\n",
    "                .rename (columns = {'uid': 'n_users'})\n",
    "    df_0_ret = df_ret. query ('n_days == \"0 days\"'). drop (columns = 'n_days') \\\n",
    "                    .rename (columns = {'n_users': 'n_users_zero'})\n",
    "    \n",
    "    df_reten = df_ret. merge (df_0_ret, on = 'reg_ts')\n",
    "    df_reten = df_reten. query ('n_days != \"0 days\"')\n",
    "    df_reten ['retention'] = df_reten.n_users / df_reten.n_users_zero\n",
    "    \n",
    "    df_reten.n_days = df_reten.n_days.astype ('str')\n",
    "    df_reten.reg_ts = df_reten.reg_ts.astype ('str')\n",
    "    df_reten = df_reten.drop (columns = ['n_users', 'n_users_zero'])\n",
    "    \n",
    "    df_retention = df_reten.pivot (index = 'reg_ts', columns = 'n_days', values = 'retention')\n",
    "    \n",
    "   \n",
    "    fig, ax = plt.subplots(figsize=(13, 5)) # в скобках можно изменить высоту и ширину графика для лучшего отображения\n",
    "    sns.heatmap (df_retention, annot=True, fmt='.2%', cmap = 'Reds', vmin=0.01, vmax=0.08)\n",
    "    plt.title('Retention Rate')\n",
    "    plt.ylabel('Когорта')\n",
    "    plt.xlabel('Дней после регистрации')\n",
    "    \n",
    "pd.options.mode.chained_assignment = None\n",
    "retention (reg_data, auth_data)"
   ]
  },
  {
   "cell_type": "markdown",
   "metadata": {},
   "source": [
    "В дополнение к основной функции расчета retention, мы можем создать дополнительную функцию, которая будет считать усредненный retention для когорот последнего месяца по его дням. Наш новый алгоритм расчета в основном будет повторять предыдущий с некоторыми модификациями.\n",
    "\n",
    "Давайте отберем данные за последний месяц и на их основе рассчитаем retention n-ного дня."
   ]
  },
  {
   "cell_type": "code",
   "execution_count": 49,
   "metadata": {},
   "outputs": [],
   "source": [
    "delta_month = df.reg_ts - pd.Timedelta (days=31) # создаем серию дат со смещением на месяц назад"
   ]
  },
  {
   "cell_type": "code",
   "execution_count": 50,
   "metadata": {},
   "outputs": [],
   "source": [
    "delta_month = delta_month.max () # отбираем из серии смещенных на месяц назад дат самую последнюю"
   ]
  },
  {
   "cell_type": "code",
   "execution_count": 51,
   "metadata": {},
   "outputs": [],
   "source": [
    "data_month = df [df.reg_ts >= delta_month] # отбираем данные за последний месяц и записываем их в новый датафрейм"
   ]
  },
  {
   "cell_type": "code",
   "execution_count": 52,
   "metadata": {},
   "outputs": [
    {
     "data": {
      "text/html": [
       "<div>\n",
       "<style scoped>\n",
       "    .dataframe tbody tr th:only-of-type {\n",
       "        vertical-align: middle;\n",
       "    }\n",
       "\n",
       "    .dataframe tbody tr th {\n",
       "        vertical-align: top;\n",
       "    }\n",
       "\n",
       "    .dataframe thead th {\n",
       "        text-align: right;\n",
       "    }\n",
       "</style>\n",
       "<table border=\"1\" class=\"dataframe\">\n",
       "  <thead>\n",
       "    <tr style=\"text-align: right;\">\n",
       "      <th></th>\n",
       "      <th>reg_ts</th>\n",
       "      <th>uid</th>\n",
       "      <th>auth_ts</th>\n",
       "      <th>n_days</th>\n",
       "    </tr>\n",
       "  </thead>\n",
       "  <tbody>\n",
       "    <tr>\n",
       "      <th>9514492</th>\n",
       "      <td>2020-08-23</td>\n",
       "      <td>1054372</td>\n",
       "      <td>2020-08-23</td>\n",
       "      <td>0 days</td>\n",
       "    </tr>\n",
       "    <tr>\n",
       "      <th>9514493</th>\n",
       "      <td>2020-08-23</td>\n",
       "      <td>1054373</td>\n",
       "      <td>2020-08-23</td>\n",
       "      <td>0 days</td>\n",
       "    </tr>\n",
       "    <tr>\n",
       "      <th>9514494</th>\n",
       "      <td>2020-08-23</td>\n",
       "      <td>1054374</td>\n",
       "      <td>2020-08-23</td>\n",
       "      <td>0 days</td>\n",
       "    </tr>\n",
       "    <tr>\n",
       "      <th>9514495</th>\n",
       "      <td>2020-08-23</td>\n",
       "      <td>1054374</td>\n",
       "      <td>2020-08-24</td>\n",
       "      <td>1 days</td>\n",
       "    </tr>\n",
       "    <tr>\n",
       "      <th>9514496</th>\n",
       "      <td>2020-08-23</td>\n",
       "      <td>1054374</td>\n",
       "      <td>2020-08-27</td>\n",
       "      <td>4 days</td>\n",
       "    </tr>\n",
       "  </tbody>\n",
       "</table>\n",
       "</div>"
      ],
      "text/plain": [
       "            reg_ts      uid    auth_ts n_days\n",
       "9514492 2020-08-23  1054372 2020-08-23 0 days\n",
       "9514493 2020-08-23  1054373 2020-08-23 0 days\n",
       "9514494 2020-08-23  1054374 2020-08-23 0 days\n",
       "9514495 2020-08-23  1054374 2020-08-24 1 days\n",
       "9514496 2020-08-23  1054374 2020-08-27 4 days"
      ]
     },
     "execution_count": 52,
     "metadata": {},
     "output_type": "execute_result"
    }
   ],
   "source": [
    "data_month.head (5) # проверяем корректность отображения данных"
   ]
  },
  {
   "cell_type": "code",
   "execution_count": 60,
   "metadata": {},
   "outputs": [
    {
     "data": {
      "text/plain": [
       "(86521, 4)"
      ]
     },
     "execution_count": 60,
     "metadata": {},
     "output_type": "execute_result"
    }
   ],
   "source": [
    "data_month.shape # смотрим размер датафрейма"
   ]
  },
  {
   "cell_type": "code",
   "execution_count": 53,
   "metadata": {},
   "outputs": [],
   "source": [
    "data_month ['n_days'] = data_month.auth_ts - data_month.reg_ts # создаем колонку с разницей дней регистрации и аутентификации"
   ]
  },
  {
   "cell_type": "code",
   "execution_count": 54,
   "metadata": {},
   "outputs": [
    {
     "data": {
      "text/html": [
       "<div>\n",
       "<style scoped>\n",
       "    .dataframe tbody tr th:only-of-type {\n",
       "        vertical-align: middle;\n",
       "    }\n",
       "\n",
       "    .dataframe tbody tr th {\n",
       "        vertical-align: top;\n",
       "    }\n",
       "\n",
       "    .dataframe thead th {\n",
       "        text-align: right;\n",
       "    }\n",
       "</style>\n",
       "<table border=\"1\" class=\"dataframe\">\n",
       "  <thead>\n",
       "    <tr style=\"text-align: right;\">\n",
       "      <th></th>\n",
       "      <th>reg_ts</th>\n",
       "      <th>uid</th>\n",
       "      <th>auth_ts</th>\n",
       "      <th>n_days</th>\n",
       "    </tr>\n",
       "  </thead>\n",
       "  <tbody>\n",
       "    <tr>\n",
       "      <th>9514492</th>\n",
       "      <td>2020-08-23</td>\n",
       "      <td>1054372</td>\n",
       "      <td>2020-08-23</td>\n",
       "      <td>0 days</td>\n",
       "    </tr>\n",
       "    <tr>\n",
       "      <th>9514493</th>\n",
       "      <td>2020-08-23</td>\n",
       "      <td>1054373</td>\n",
       "      <td>2020-08-23</td>\n",
       "      <td>0 days</td>\n",
       "    </tr>\n",
       "    <tr>\n",
       "      <th>9514494</th>\n",
       "      <td>2020-08-23</td>\n",
       "      <td>1054374</td>\n",
       "      <td>2020-08-23</td>\n",
       "      <td>0 days</td>\n",
       "    </tr>\n",
       "    <tr>\n",
       "      <th>9514495</th>\n",
       "      <td>2020-08-23</td>\n",
       "      <td>1054374</td>\n",
       "      <td>2020-08-24</td>\n",
       "      <td>1 days</td>\n",
       "    </tr>\n",
       "    <tr>\n",
       "      <th>9514496</th>\n",
       "      <td>2020-08-23</td>\n",
       "      <td>1054374</td>\n",
       "      <td>2020-08-27</td>\n",
       "      <td>4 days</td>\n",
       "    </tr>\n",
       "  </tbody>\n",
       "</table>\n",
       "</div>"
      ],
      "text/plain": [
       "            reg_ts      uid    auth_ts n_days\n",
       "9514492 2020-08-23  1054372 2020-08-23 0 days\n",
       "9514493 2020-08-23  1054373 2020-08-23 0 days\n",
       "9514494 2020-08-23  1054374 2020-08-23 0 days\n",
       "9514495 2020-08-23  1054374 2020-08-24 1 days\n",
       "9514496 2020-08-23  1054374 2020-08-27 4 days"
      ]
     },
     "execution_count": 54,
     "metadata": {},
     "output_type": "execute_result"
    }
   ],
   "source": [
    "data_month.head (5)"
   ]
  },
  {
   "cell_type": "markdown",
   "metadata": {},
   "source": [
    "Далее посчитаем для каждой когорты пользователей по дате регистрации количество их заходов в игру для каждого n-ного дня и запишем результат в новый датафрейм."
   ]
  },
  {
   "cell_type": "code",
   "execution_count": 55,
   "metadata": {},
   "outputs": [],
   "source": [
    "# группируем датафрейм по дате регистрации и номеру дня, считаем количество уникальных пользователей,\n",
    "# переименовываем колонку с ними и записываем результат в новый датафрейм\n",
    "\n",
    "df_ret_month = data_month. groupby (['reg_ts', 'n_days'], as_index = False) \\\n",
    "            .agg ({'uid': 'nunique'}). rename (columns = {'uid': 'n_users'})"
   ]
  },
  {
   "cell_type": "code",
   "execution_count": 56,
   "metadata": {},
   "outputs": [
    {
     "data": {
      "text/html": [
       "<div>\n",
       "<style scoped>\n",
       "    .dataframe tbody tr th:only-of-type {\n",
       "        vertical-align: middle;\n",
       "    }\n",
       "\n",
       "    .dataframe tbody tr th {\n",
       "        vertical-align: top;\n",
       "    }\n",
       "\n",
       "    .dataframe thead th {\n",
       "        text-align: right;\n",
       "    }\n",
       "</style>\n",
       "<table border=\"1\" class=\"dataframe\">\n",
       "  <thead>\n",
       "    <tr style=\"text-align: right;\">\n",
       "      <th></th>\n",
       "      <th>reg_ts</th>\n",
       "      <th>n_days</th>\n",
       "      <th>n_users</th>\n",
       "    </tr>\n",
       "  </thead>\n",
       "  <tbody>\n",
       "    <tr>\n",
       "      <th>0</th>\n",
       "      <td>2020-08-23</td>\n",
       "      <td>0 days</td>\n",
       "      <td>1562</td>\n",
       "    </tr>\n",
       "    <tr>\n",
       "      <th>1</th>\n",
       "      <td>2020-08-23</td>\n",
       "      <td>1 days</td>\n",
       "      <td>39</td>\n",
       "    </tr>\n",
       "    <tr>\n",
       "      <th>2</th>\n",
       "      <td>2020-08-23</td>\n",
       "      <td>2 days</td>\n",
       "      <td>60</td>\n",
       "    </tr>\n",
       "    <tr>\n",
       "      <th>3</th>\n",
       "      <td>2020-08-23</td>\n",
       "      <td>3 days</td>\n",
       "      <td>76</td>\n",
       "    </tr>\n",
       "    <tr>\n",
       "      <th>4</th>\n",
       "      <td>2020-08-23</td>\n",
       "      <td>4 days</td>\n",
       "      <td>77</td>\n",
       "    </tr>\n",
       "  </tbody>\n",
       "</table>\n",
       "</div>"
      ],
      "text/plain": [
       "      reg_ts n_days  n_users\n",
       "0 2020-08-23 0 days     1562\n",
       "1 2020-08-23 1 days       39\n",
       "2 2020-08-23 2 days       60\n",
       "3 2020-08-23 3 days       76\n",
       "4 2020-08-23 4 days       77"
      ]
     },
     "execution_count": 56,
     "metadata": {},
     "output_type": "execute_result"
    }
   ],
   "source": [
    "df_ret_month.head (5)"
   ]
  },
  {
   "cell_type": "markdown",
   "metadata": {},
   "source": [
    "Day N Retention рассчитывается как процент пользователей, которые пришли в приложение спустя n дней после регистрации. Для его расчета нам нужно сначала создать колонку с количеством пользователей, зашедших в приложение в день регистрации для каждой даты регистрации."
   ]
  },
  {
   "cell_type": "code",
   "execution_count": 57,
   "metadata": {},
   "outputs": [],
   "source": [
    "# фильтруем предудыщий датафрейм по нужному значению, убираем лишнюю колонку и переименовываем другую колонку\n",
    "\n",
    "df_0_ret_month = df_ret_month. query ('n_days == \"0 days\"') \\\n",
    "                .drop (columns = 'n_days'). rename (columns = {'n_users': 'n_users_zero'})"
   ]
  },
  {
   "cell_type": "code",
   "execution_count": 58,
   "metadata": {},
   "outputs": [
    {
     "data": {
      "text/html": [
       "<div>\n",
       "<style scoped>\n",
       "    .dataframe tbody tr th:only-of-type {\n",
       "        vertical-align: middle;\n",
       "    }\n",
       "\n",
       "    .dataframe tbody tr th {\n",
       "        vertical-align: top;\n",
       "    }\n",
       "\n",
       "    .dataframe thead th {\n",
       "        text-align: right;\n",
       "    }\n",
       "</style>\n",
       "<table border=\"1\" class=\"dataframe\">\n",
       "  <thead>\n",
       "    <tr style=\"text-align: right;\">\n",
       "      <th></th>\n",
       "      <th>reg_ts</th>\n",
       "      <th>n_users_zero</th>\n",
       "    </tr>\n",
       "  </thead>\n",
       "  <tbody>\n",
       "    <tr>\n",
       "      <th>0</th>\n",
       "      <td>2020-08-23</td>\n",
       "      <td>1562</td>\n",
       "    </tr>\n",
       "    <tr>\n",
       "      <th>32</th>\n",
       "      <td>2020-08-24</td>\n",
       "      <td>1565</td>\n",
       "    </tr>\n",
       "    <tr>\n",
       "      <th>63</th>\n",
       "      <td>2020-08-25</td>\n",
       "      <td>1567</td>\n",
       "    </tr>\n",
       "    <tr>\n",
       "      <th>93</th>\n",
       "      <td>2020-08-26</td>\n",
       "      <td>1570</td>\n",
       "    </tr>\n",
       "    <tr>\n",
       "      <th>122</th>\n",
       "      <td>2020-08-27</td>\n",
       "      <td>1573</td>\n",
       "    </tr>\n",
       "  </tbody>\n",
       "</table>\n",
       "</div>"
      ],
      "text/plain": [
       "        reg_ts  n_users_zero\n",
       "0   2020-08-23          1562\n",
       "32  2020-08-24          1565\n",
       "63  2020-08-25          1567\n",
       "93  2020-08-26          1570\n",
       "122 2020-08-27          1573"
      ]
     },
     "execution_count": 58,
     "metadata": {},
     "output_type": "execute_result"
    }
   ],
   "source": [
    "df_0_ret_month. head (5)"
   ]
  },
  {
   "cell_type": "markdown",
   "metadata": {},
   "source": [
    "Далее объединим эти датафреймы по дате регистрации, разделим количество пользователей в n-ный день на количество пользователей в день регистрации и умножим результат на 100%. Таким образом, мы получим колонку с Day N Retention."
   ]
  },
  {
   "cell_type": "code",
   "execution_count": 59,
   "metadata": {},
   "outputs": [],
   "source": [
    "# объединяем датафреймы\n",
    "\n",
    "df_reten_month = df_ret_month. merge (df_0_ret_month, on = 'reg_ts')"
   ]
  },
  {
   "cell_type": "code",
   "execution_count": 60,
   "metadata": {},
   "outputs": [],
   "source": [
    "# оставляем значения ненулевых дней и записываем в новый датафрейм\n",
    "\n",
    "df_reten_month = df_reten_month. query ('n_days != \"0 days\"')"
   ]
  },
  {
   "cell_type": "code",
   "execution_count": 61,
   "metadata": {},
   "outputs": [],
   "source": [
    "# создаем колонку с retention\n",
    "\n",
    "df_reten_month ['retention'] = ((df_reten_month.n_users / df_reten_month.n_users_zero ) * 100)"
   ]
  },
  {
   "cell_type": "code",
   "execution_count": 62,
   "metadata": {},
   "outputs": [
    {
     "data": {
      "text/html": [
       "<div>\n",
       "<style scoped>\n",
       "    .dataframe tbody tr th:only-of-type {\n",
       "        vertical-align: middle;\n",
       "    }\n",
       "\n",
       "    .dataframe tbody tr th {\n",
       "        vertical-align: top;\n",
       "    }\n",
       "\n",
       "    .dataframe thead th {\n",
       "        text-align: right;\n",
       "    }\n",
       "</style>\n",
       "<table border=\"1\" class=\"dataframe\">\n",
       "  <thead>\n",
       "    <tr style=\"text-align: right;\">\n",
       "      <th></th>\n",
       "      <th>reg_ts</th>\n",
       "      <th>n_days</th>\n",
       "      <th>n_users</th>\n",
       "      <th>n_users_zero</th>\n",
       "      <th>retention</th>\n",
       "    </tr>\n",
       "  </thead>\n",
       "  <tbody>\n",
       "    <tr>\n",
       "      <th>1</th>\n",
       "      <td>2020-08-23</td>\n",
       "      <td>1 days</td>\n",
       "      <td>39</td>\n",
       "      <td>1562</td>\n",
       "      <td>2.496799</td>\n",
       "    </tr>\n",
       "    <tr>\n",
       "      <th>2</th>\n",
       "      <td>2020-08-23</td>\n",
       "      <td>2 days</td>\n",
       "      <td>60</td>\n",
       "      <td>1562</td>\n",
       "      <td>3.841229</td>\n",
       "    </tr>\n",
       "    <tr>\n",
       "      <th>3</th>\n",
       "      <td>2020-08-23</td>\n",
       "      <td>3 days</td>\n",
       "      <td>76</td>\n",
       "      <td>1562</td>\n",
       "      <td>4.865557</td>\n",
       "    </tr>\n",
       "    <tr>\n",
       "      <th>4</th>\n",
       "      <td>2020-08-23</td>\n",
       "      <td>4 days</td>\n",
       "      <td>77</td>\n",
       "      <td>1562</td>\n",
       "      <td>4.929577</td>\n",
       "    </tr>\n",
       "    <tr>\n",
       "      <th>5</th>\n",
       "      <td>2020-08-23</td>\n",
       "      <td>5 days</td>\n",
       "      <td>109</td>\n",
       "      <td>1562</td>\n",
       "      <td>6.978233</td>\n",
       "    </tr>\n",
       "  </tbody>\n",
       "</table>\n",
       "</div>"
      ],
      "text/plain": [
       "      reg_ts n_days  n_users  n_users_zero  retention\n",
       "1 2020-08-23 1 days       39          1562   2.496799\n",
       "2 2020-08-23 2 days       60          1562   3.841229\n",
       "3 2020-08-23 3 days       76          1562   4.865557\n",
       "4 2020-08-23 4 days       77          1562   4.929577\n",
       "5 2020-08-23 5 days      109          1562   6.978233"
      ]
     },
     "execution_count": 62,
     "metadata": {},
     "output_type": "execute_result"
    }
   ],
   "source": [
    "df_reten_month. head (5)"
   ]
  },
  {
   "cell_type": "markdown",
   "metadata": {},
   "source": [
    "По сути, мы произвели анализ Day N Retention для каждой когорты пользователей по дням регистрации за последний месяц. \n",
    "\n",
    "Далее усредним retention n-ного дня по всем когортам за последний месяц и построим lineplot."
   ]
  },
  {
   "cell_type": "code",
   "execution_count": 63,
   "metadata": {},
   "outputs": [],
   "source": [
    "# Группируем предыдущий датафрейм по n-ному дню, рассчитываем для него средний retention с округлением до десятых \n",
    "# и записываем результат в новый датафрейм\n",
    "\n",
    "df_retention_month = df_reten_month. groupby ('n_days', as_index = False). agg ({'retention': 'mean'})\n",
    "df_retention_month.retention = round (df_retention_month.retention, 1)"
   ]
  },
  {
   "cell_type": "code",
   "execution_count": 64,
   "metadata": {},
   "outputs": [],
   "source": [
    "# Переводим колонку с днями из формата timedelta в строчный формат, чтобы на графике отображались отдельные дни\n",
    "\n",
    "df_retention_month.n_days = df_retention_month.n_days.astype ('str')"
   ]
  },
  {
   "cell_type": "code",
   "execution_count": 65,
   "metadata": {},
   "outputs": [
    {
     "data": {
      "image/png": "[encoded data removed]",
      "text/plain": [
       "<Figure size 864x432 with 1 Axes>"
      ]
     },
     "metadata": {
      "needs_background": "light"
     },
     "output_type": "display_data"
    }
   ],
   "source": [
    "# Строим интерактивный график с метрикой удержания\n",
    "\n",
    "plt.figure (figsize=(12, 6))\n",
    "ax = sns.lineplot (data = df_retention_month, x = 'n_days', y = 'retention')\n",
    "ax.tick_params(axis='x', rotation=45)\n",
    "plt.show ()"
   ]
  },
  {
   "cell_type": "markdown",
   "metadata": {},
   "source": [
    "Теперь упакуем наш алгоритм расчета среднего месячного retention и построения соответствующего графика в тело питоновской функции"
   ]
  },
  {
   "cell_type": "code",
   "execution_count": 66,
   "metadata": {},
   "outputs": [
    {
     "data": {
      "image/png": "[encoded data removed]",
      "text/plain": [
       "<Figure size 864x432 with 1 Axes>"
      ]
     },
     "metadata": {
      "needs_background": "light"
     },
     "output_type": "display_data"
    }
   ],
   "source": [
    "def retention_month (reg_data, auth_data):\n",
    "    \n",
    "    reg_data.reg_ts = pd.to_datetime (reg_data.reg_ts, unit = 's')\n",
    "    reg_data.reg_ts = reg_data.reg_ts.map (lambda x: x.strftime('%Y-%m-%d'))\n",
    "    reg_data.reg_ts = pd.to_datetime (reg_data.reg_ts)\n",
    "    \n",
    "    auth_data.auth_ts = pd.to_datetime (auth_data.auth_ts, unit = 's')\n",
    "    auth_data.auth_ts = auth_data.auth_ts.map (lambda x: x.strftime('%Y-%m-%d'))\n",
    "    auth_data.auth_ts = pd.to_datetime (auth_data.auth_ts)\n",
    "    \n",
    "    df = reg_data.merge (auth_data, on = 'uid')\n",
    "    \n",
    "    delta_month = df.reg_ts - pd.Timedelta (days=31)\n",
    "    delta_month = delta_month.max ()\n",
    "    data_month = df [df.reg_ts >= delta_month]\n",
    "    \n",
    "    data_month ['n_days'] = data_month.auth_ts - data_month.reg_ts\n",
    "    df_ret_month = data_month. groupby (['reg_ts', 'n_days'], as_index = False). agg ({'uid': 'nunique'}) \\\n",
    "                .rename (columns = {'uid': 'n_users'})\n",
    "    df_0_ret_month = df_ret_month. query ('n_days == \"0 days\"'). drop (columns = 'n_days') \\\n",
    "                    .rename (columns = {'n_users': 'n_users_zero'})\n",
    "    \n",
    "    df_reten_month = df_ret_month. merge (df_0_ret_month, on = 'reg_ts')\n",
    "    df_reten_month = df_reten_month. query ('n_days != \"0 days\"')\n",
    "    df_reten_month ['retention'] = ((df_reten_month.n_users / df_reten_month.n_users_zero ) * 100)\n",
    "    \n",
    "    df_retention_month = df_reten_month. groupby ('n_days', as_index = False). agg ({'retention': 'mean'})\n",
    "    df_retention_month.retention = round (df_retention_month.retention, 1)\n",
    "    df_retention_month.n_days = df_retention_month.n_days.astype ('str')\n",
    "    \n",
    "    plt.figure (figsize=(12, 6))\n",
    "    ax = sns.lineplot (data = df_retention_month, x = 'n_days', y = 'retention')\n",
    "    ax.tick_params(axis='x', rotation=45)\n",
    "    ret_fig = plt.show ()\n",
    "    return (ret_fig)\n",
    "\n",
    "pd.options.mode.chained_assignment = None\n",
    "retention_month (reg_data, auth_data)"
   ]
  },
  {
   "cell_type": "markdown",
   "metadata": {},
   "source": [
    "--------------\n",
    "**Задание 2**\n",
    "\n",
    "Имеются результаты A/B теста, в котором двум группам пользователей предлагались различные наборы акционных предложений. Известно, что ARPU в тестовой группе выше на 5%, чем в контрольной. При этом в контрольной группе 1928 игроков из 202103 оказались платящими, а в тестовой – 1805 из 202667.\n",
    "\n",
    "Какой набор предложений можно считать лучшим? Какие метрики стоит проанализировать для принятия правильного решения и как?"
   ]
  },
  {
   "cell_type": "markdown",
   "metadata": {},
   "source": [
    "Для начала загрузим данные и проведем разведочный анализ."
   ]
  },
  {
   "cell_type": "code",
   "execution_count": 67,
   "metadata": {},
   "outputs": [],
   "source": [
    "df_1 = pd.read_csv ('../Final_project/Проект_1_Задание_2.csv', sep = ';')"
   ]
  },
  {
   "cell_type": "code",
   "execution_count": 68,
   "metadata": {},
   "outputs": [
    {
     "data": {
      "text/html": [
       "<div>\n",
       "<style scoped>\n",
       "    .dataframe tbody tr th:only-of-type {\n",
       "        vertical-align: middle;\n",
       "    }\n",
       "\n",
       "    .dataframe tbody tr th {\n",
       "        vertical-align: top;\n",
       "    }\n",
       "\n",
       "    .dataframe thead th {\n",
       "        text-align: right;\n",
       "    }\n",
       "</style>\n",
       "<table border=\"1\" class=\"dataframe\">\n",
       "  <thead>\n",
       "    <tr style=\"text-align: right;\">\n",
       "      <th></th>\n",
       "      <th>user_id</th>\n",
       "      <th>revenue</th>\n",
       "      <th>testgroup</th>\n",
       "    </tr>\n",
       "  </thead>\n",
       "  <tbody>\n",
       "    <tr>\n",
       "      <th>0</th>\n",
       "      <td>1</td>\n",
       "      <td>0</td>\n",
       "      <td>b</td>\n",
       "    </tr>\n",
       "    <tr>\n",
       "      <th>1</th>\n",
       "      <td>2</td>\n",
       "      <td>0</td>\n",
       "      <td>a</td>\n",
       "    </tr>\n",
       "    <tr>\n",
       "      <th>2</th>\n",
       "      <td>3</td>\n",
       "      <td>0</td>\n",
       "      <td>a</td>\n",
       "    </tr>\n",
       "    <tr>\n",
       "      <th>3</th>\n",
       "      <td>4</td>\n",
       "      <td>0</td>\n",
       "      <td>b</td>\n",
       "    </tr>\n",
       "    <tr>\n",
       "      <th>4</th>\n",
       "      <td>5</td>\n",
       "      <td>0</td>\n",
       "      <td>b</td>\n",
       "    </tr>\n",
       "  </tbody>\n",
       "</table>\n",
       "</div>"
      ],
      "text/plain": [
       "   user_id  revenue testgroup\n",
       "0        1        0         b\n",
       "1        2        0         a\n",
       "2        3        0         a\n",
       "3        4        0         b\n",
       "4        5        0         b"
      ]
     },
     "execution_count": 68,
     "metadata": {},
     "output_type": "execute_result"
    }
   ],
   "source": [
    "df_1. head (5)"
   ]
  },
  {
   "cell_type": "code",
   "execution_count": 69,
   "metadata": {},
   "outputs": [
    {
     "data": {
      "text/plain": [
       "(404770, 3)"
      ]
     },
     "execution_count": 69,
     "metadata": {},
     "output_type": "execute_result"
    }
   ],
   "source": [
    "df_1.shape"
   ]
  },
  {
   "cell_type": "code",
   "execution_count": 70,
   "metadata": {},
   "outputs": [
    {
     "data": {
      "text/plain": [
       "user_id       int64\n",
       "revenue       int64\n",
       "testgroup    object\n",
       "dtype: object"
      ]
     },
     "execution_count": 70,
     "metadata": {},
     "output_type": "execute_result"
    }
   ],
   "source": [
    "df_1.dtypes"
   ]
  },
  {
   "cell_type": "code",
   "execution_count": 71,
   "metadata": {},
   "outputs": [
    {
     "data": {
      "text/plain": [
       "user_id      0\n",
       "revenue      0\n",
       "testgroup    0\n",
       "dtype: int64"
      ]
     },
     "execution_count": 71,
     "metadata": {},
     "output_type": "execute_result"
    }
   ],
   "source": [
    "df_1. isna (). sum ()"
   ]
  },
  {
   "cell_type": "code",
   "execution_count": 72,
   "metadata": {},
   "outputs": [],
   "source": [
    "# переименуем колонки для большей наглядности\n",
    "\n",
    "testgroup_dict = {'a':'control', 'b':'test'}\n",
    "df_1.testgroup = df_1.testgroup.map (testgroup_dict)"
   ]
  },
  {
   "cell_type": "code",
   "execution_count": 73,
   "metadata": {},
   "outputs": [
    {
     "data": {
      "text/html": [
       "<div>\n",
       "<style scoped>\n",
       "    .dataframe tbody tr th:only-of-type {\n",
       "        vertical-align: middle;\n",
       "    }\n",
       "\n",
       "    .dataframe tbody tr th {\n",
       "        vertical-align: top;\n",
       "    }\n",
       "\n",
       "    .dataframe thead th {\n",
       "        text-align: right;\n",
       "    }\n",
       "</style>\n",
       "<table border=\"1\" class=\"dataframe\">\n",
       "  <thead>\n",
       "    <tr style=\"text-align: right;\">\n",
       "      <th></th>\n",
       "      <th>user_id</th>\n",
       "      <th>revenue</th>\n",
       "      <th>testgroup</th>\n",
       "    </tr>\n",
       "  </thead>\n",
       "  <tbody>\n",
       "    <tr>\n",
       "      <th>0</th>\n",
       "      <td>1</td>\n",
       "      <td>0</td>\n",
       "      <td>test</td>\n",
       "    </tr>\n",
       "    <tr>\n",
       "      <th>1</th>\n",
       "      <td>2</td>\n",
       "      <td>0</td>\n",
       "      <td>control</td>\n",
       "    </tr>\n",
       "    <tr>\n",
       "      <th>2</th>\n",
       "      <td>3</td>\n",
       "      <td>0</td>\n",
       "      <td>control</td>\n",
       "    </tr>\n",
       "    <tr>\n",
       "      <th>3</th>\n",
       "      <td>4</td>\n",
       "      <td>0</td>\n",
       "      <td>test</td>\n",
       "    </tr>\n",
       "    <tr>\n",
       "      <th>4</th>\n",
       "      <td>5</td>\n",
       "      <td>0</td>\n",
       "      <td>test</td>\n",
       "    </tr>\n",
       "  </tbody>\n",
       "</table>\n",
       "</div>"
      ],
      "text/plain": [
       "   user_id  revenue testgroup\n",
       "0        1        0      test\n",
       "1        2        0   control\n",
       "2        3        0   control\n",
       "3        4        0      test\n",
       "4        5        0      test"
      ]
     },
     "execution_count": 73,
     "metadata": {},
     "output_type": "execute_result"
    }
   ],
   "source": [
    "df_1. head (5)"
   ]
  },
  {
   "cell_type": "markdown",
   "metadata": {},
   "source": [
    "Мы видим, что данные загрузились нормально, пропусков нет. У нас есть три колонки: первая отражает id пользователя, вторая - доход, который он принес и третья - его принадлежность к группе тестирования. Целью нашего А/Б-теста является увеличение дохода. Детектировать мы его будем с помощью целевых метрик: конверсии, ARPU и ARPPU.\n",
    "\n",
    "Начнем с конверсии в покупку. Из условий задачи нам известно, что конверсия в покупку в контрольной и тестовой группах изменилась. Давайте проверим статзначимость этого изменения с помощью теста Хи-квадрат, а потом подсчитаем размер эффекта. "
   ]
  },
  {
   "cell_type": "markdown",
   "metadata": {},
   "source": [
    "Для реализации этого теста нам нужно создать таблицу сопряженности, состоящую из пересечения двух категориальных делений (тестовая/контрольная группа и совершение/несовершение покупки). Если деление на тестовую и контрольную группу в наших данных уже приведено, то доход у нас разделен не по факту его наличия/отсутствия, а в виде суммы денег. Следовательно, нам нужно написать функцию, которая переведет эти данные в нужный нам вид."
   ]
  },
  {
   "cell_type": "code",
   "execution_count": 74,
   "metadata": {},
   "outputs": [
    {
     "data": {
      "text/html": [
       "<div>\n",
       "<style scoped>\n",
       "    .dataframe tbody tr th:only-of-type {\n",
       "        vertical-align: middle;\n",
       "    }\n",
       "\n",
       "    .dataframe tbody tr th {\n",
       "        vertical-align: top;\n",
       "    }\n",
       "\n",
       "    .dataframe thead th {\n",
       "        text-align: right;\n",
       "    }\n",
       "</style>\n",
       "<table border=\"1\" class=\"dataframe\">\n",
       "  <thead>\n",
       "    <tr style=\"text-align: right;\">\n",
       "      <th></th>\n",
       "      <th>user_id</th>\n",
       "      <th>revenue</th>\n",
       "      <th>testgroup</th>\n",
       "      <th>CR_coef</th>\n",
       "    </tr>\n",
       "  </thead>\n",
       "  <tbody>\n",
       "    <tr>\n",
       "      <th>0</th>\n",
       "      <td>1</td>\n",
       "      <td>0</td>\n",
       "      <td>test</td>\n",
       "      <td>0</td>\n",
       "    </tr>\n",
       "    <tr>\n",
       "      <th>1</th>\n",
       "      <td>2</td>\n",
       "      <td>0</td>\n",
       "      <td>control</td>\n",
       "      <td>0</td>\n",
       "    </tr>\n",
       "    <tr>\n",
       "      <th>2</th>\n",
       "      <td>3</td>\n",
       "      <td>0</td>\n",
       "      <td>control</td>\n",
       "      <td>0</td>\n",
       "    </tr>\n",
       "    <tr>\n",
       "      <th>3</th>\n",
       "      <td>4</td>\n",
       "      <td>0</td>\n",
       "      <td>test</td>\n",
       "      <td>0</td>\n",
       "    </tr>\n",
       "    <tr>\n",
       "      <th>4</th>\n",
       "      <td>5</td>\n",
       "      <td>0</td>\n",
       "      <td>test</td>\n",
       "      <td>0</td>\n",
       "    </tr>\n",
       "  </tbody>\n",
       "</table>\n",
       "</div>"
      ],
      "text/plain": [
       "   user_id  revenue testgroup  CR_coef\n",
       "0        1        0      test        0\n",
       "1        2        0   control        0\n",
       "2        3        0   control        0\n",
       "3        4        0      test        0\n",
       "4        5        0      test        0"
      ]
     },
     "execution_count": 74,
     "metadata": {},
     "output_type": "execute_result"
    }
   ],
   "source": [
    "# определяем функцию, которая присваивает единицу, если пользователь совершил покупку и ноль, если нет\n",
    "# создаём колонку датафрейма, реализующую эту функцию\n",
    "\n",
    "def f(row):\n",
    " if row ['revenue'] == 0:\n",
    "     val = 0\n",
    " else:\n",
    "     val = 1\n",
    " return val\n",
    "\n",
    "df_1 ['CR_coef'] = df_1.apply (f, axis = 1) \n",
    "\n",
    "df_1.head ()"
   ]
  },
  {
   "cell_type": "code",
   "execution_count": 75,
   "metadata": {},
   "outputs": [
    {
     "data": {
      "text/html": [
       "<div>\n",
       "<style scoped>\n",
       "    .dataframe tbody tr th:only-of-type {\n",
       "        vertical-align: middle;\n",
       "    }\n",
       "\n",
       "    .dataframe tbody tr th {\n",
       "        vertical-align: top;\n",
       "    }\n",
       "\n",
       "    .dataframe thead th {\n",
       "        text-align: right;\n",
       "    }\n",
       "</style>\n",
       "<table border=\"1\" class=\"dataframe\">\n",
       "  <thead>\n",
       "    <tr style=\"text-align: right;\">\n",
       "      <th>CR_coef</th>\n",
       "      <th>0</th>\n",
       "      <th>1</th>\n",
       "    </tr>\n",
       "    <tr>\n",
       "      <th>testgroup</th>\n",
       "      <th></th>\n",
       "      <th></th>\n",
       "    </tr>\n",
       "  </thead>\n",
       "  <tbody>\n",
       "    <tr>\n",
       "      <th>control</th>\n",
       "      <td>200175</td>\n",
       "      <td>1928</td>\n",
       "    </tr>\n",
       "    <tr>\n",
       "      <th>test</th>\n",
       "      <td>200862</td>\n",
       "      <td>1805</td>\n",
       "    </tr>\n",
       "  </tbody>\n",
       "</table>\n",
       "</div>"
      ],
      "text/plain": [
       "CR_coef         0     1\n",
       "testgroup              \n",
       "control    200175  1928\n",
       "test       200862  1805"
      ]
     },
     "execution_count": 75,
     "metadata": {},
     "output_type": "execute_result"
    }
   ],
   "source": [
    "# строим таблицу сопряженности и проверяем результат\n",
    "\n",
    "df_cross = pd.crosstab (df_1.testgroup, df_1.CR_coef)\n",
    "df_cross"
   ]
  },
  {
   "cell_type": "code",
   "execution_count": 76,
   "metadata": {},
   "outputs": [
    {
     "data": {
      "text/plain": [
       "(4.374729521260405, 0.03647561892312613)"
      ]
     },
     "execution_count": 76,
     "metadata": {},
     "output_type": "execute_result"
    }
   ],
   "source": [
    "# проводим тест Хи-квадрат и выводим статистику и p-value\n",
    "\n",
    "stat, p, dof, expected = scipy.stats.chi2_contingency(df_cross) \n",
    "stat, p"
   ]
  },
  {
   "cell_type": "markdown",
   "metadata": {},
   "source": [
    "В качестве критического уровня значимости (или альфа-уровня значимости) мы берем конвенциональный стандарт - 0.05.\n",
    "\n",
    "Как видно из теста, p-value меньше 0.05, что дает нам основания отвергнуть нулевую гипотезу и принять альтернативную о статзначимости различий в конверсии в покупку между тестовой и контрольной группой.\n",
    "\n",
    "Теперь проверим как количественно изменилась конверсия в ходе эксперимента и в какую сторону (ухудшение/улучшение). \n",
    "\n",
    "Конверсию в покупку мы будем считать как отношение числа купивших к общему числу пользователей, умноженное на 100%. Мы не будем явно указывать проценты в наших вычислениях для их удобства, но будем помнить о них."
   ]
  },
  {
   "cell_type": "code",
   "execution_count": 77,
   "metadata": {},
   "outputs": [
    {
     "data": {
      "text/plain": [
       "0.9539690157988748"
      ]
     },
     "execution_count": 77,
     "metadata": {},
     "output_type": "execute_result"
    }
   ],
   "source": [
    "# считаем конверсию в контрольной группе\n",
    "\n",
    "conv_control = (df_cross [1].control / (df_cross [1].control + df_cross [0].control)) * 100\n",
    "conv_control"
   ]
  },
  {
   "cell_type": "code",
   "execution_count": 78,
   "metadata": {},
   "outputs": [
    {
     "data": {
      "text/plain": [
       "0.8906235351586593"
      ]
     },
     "execution_count": 78,
     "metadata": {},
     "output_type": "execute_result"
    }
   ],
   "source": [
    "# считаем конверсию в тестовой группе\n",
    "\n",
    "conv_test = (df_cross [1].test / (df_cross [1].test + df_cross [0].test)) * 100\n",
    "conv_test"
   ]
  },
  {
   "cell_type": "code",
   "execution_count": 79,
   "metadata": {},
   "outputs": [
    {
     "data": {
      "text/plain": [
       "-0.06"
      ]
     },
     "execution_count": 79,
     "metadata": {},
     "output_type": "execute_result"
    }
   ],
   "source": [
    "round (conv_test - conv_control, 2)"
   ]
  },
  {
   "cell_type": "markdown",
   "metadata": {},
   "source": [
    "Конверсия в тестовой группе упала на 6 сотых процента. Это небольшое падение, но мы можем рассчитать размер эффекта более формально для большей уверенности.\n",
    "\n",
    "Так как у нас таблица 2х2, то можем воспользоваться φ-критерием."
   ]
  },
  {
   "cell_type": "code",
   "execution_count": 80,
   "metadata": {},
   "outputs": [
    {
     "data": {
      "text/plain": [
       "0.003287543023146198"
      ]
     },
     "execution_count": 80,
     "metadata": {},
     "output_type": "execute_result"
    }
   ],
   "source": [
    "φ = np.sqrt (stat / df_1.shape [0])\n",
    "φ"
   ]
  },
  {
   "cell_type": "code",
   "execution_count": 81,
   "metadata": {},
   "outputs": [
    {
     "data": {
      "text/plain": [
       "0.003"
      ]
     },
     "execution_count": 81,
     "metadata": {},
     "output_type": "execute_result"
    }
   ],
   "source": [
    "round (φ, 3)"
   ]
  },
  {
   "cell_type": "markdown",
   "metadata": {},
   "source": [
    "У нас получился очень малый размер эффекта, но он все равно статистически значим."
   ]
  },
  {
   "cell_type": "markdown",
   "metadata": {},
   "source": [
    "Проверим теперь статистическую значимость и размер эффекта изменения ARPU - метрики среднего дохода с пользователя."
   ]
  },
  {
   "cell_type": "code",
   "execution_count": 82,
   "metadata": {},
   "outputs": [],
   "source": [
    "# создаем датафреймы с тестовой и контрольной группами\n",
    "\n",
    "df_test = df_1.query ('testgroup == \"test\"')\n",
    "df_control = df_1.query ('testgroup == \"control\"')"
   ]
  },
  {
   "cell_type": "code",
   "execution_count": 83,
   "metadata": {},
   "outputs": [
    {
     "data": {
      "text/plain": [
       "(202103, 202667)"
      ]
     },
     "execution_count": 83,
     "metadata": {},
     "output_type": "execute_result"
    }
   ],
   "source": [
    "# проверяем размеры контрольной и тестовой групп\n",
    "\n",
    "df_control.shape [0], df_test.shape [0]"
   ]
  },
  {
   "cell_type": "code",
   "execution_count": 84,
   "metadata": {},
   "outputs": [],
   "source": [
    "# создаем для удобства расчётов датафреймы с доходами тестовой и контрольной групп\n",
    "\n",
    "df_test_u_rev = df_test.revenue\n",
    "df_control_u_rev = df_control.revenue"
   ]
  },
  {
   "cell_type": "markdown",
   "metadata": {},
   "source": [
    "Теперь проверим нормальность распределений дохода в контрольной и тестовой группе с помощью критерия Д'Агостино, который лежит под капотом scipy.stats.normaltest"
   ]
  },
  {
   "cell_type": "code",
   "execution_count": 85,
   "metadata": {},
   "outputs": [
    {
     "data": {
      "text/plain": [
       "[NormaltestResult(statistic=585152.7312728433, pvalue=0.0),\n",
       " NormaltestResult(statistic=326622.39540856465, pvalue=0.0)]"
      ]
     },
     "execution_count": 85,
     "metadata": {},
     "output_type": "execute_result"
    }
   ],
   "source": [
    "# реализуем проверку распределений на нормальность\n",
    "\n",
    "[scipy.stats.normaltest (df_control_u_rev), scipy.stats.normaltest (df_test_u_rev)]"
   ]
  },
  {
   "cell_type": "markdown",
   "metadata": {},
   "source": [
    "Тест на нормальность рассчитал для обоих распределений p-значение ниже критического уровня значимости 0.05, что позволяет нам отклонить нулевую гипотезу о нормальности распределений и принять альтернативную гипотезу о ненормальном характере распределений.\n",
    "\n",
    "Давайте визуально оценим формы нашх распределений на графиках. Это поможет нам точнее понять их характер."
   ]
  },
  {
   "cell_type": "code",
   "execution_count": 86,
   "metadata": {},
   "outputs": [
    {
     "data": {
      "text/plain": [
       "<seaborn.axisgrid.FacetGrid at 0x7f11aa8e0b00>"
      ]
     },
     "execution_count": 86,
     "metadata": {},
     "output_type": "execute_result"
    },
    {
     "data": {
      "image/png": "[encoded data removed]",
      "text/plain": [
       "<Figure size 360x360 with 1 Axes>"
      ]
     },
     "metadata": {
      "needs_background": "light"
     },
     "output_type": "display_data"
    },
    {
     "data": {
      "image/png": "[encoded data removed]",
      "text/plain": [
       "<Figure size 360x360 with 1 Axes>"
      ]
     },
     "metadata": {
      "needs_background": "light"
     },
     "output_type": "display_data"
    }
   ],
   "source": [
    "# строим графики распределений дохода в контрольной и тестовой группе\n",
    "\n",
    "sns.displot (df_control_u_rev)\n",
    "sns.displot (df_test_u_rev)"
   ]
  },
  {
   "cell_type": "markdown",
   "metadata": {},
   "source": [
    "Как видно из графиков, распределения отклоняются от нормальной формы из-за сильного положительного перекоса и существуют большие выбросы. Это вызвано преобладанием неплатящих пользователей в обеих группах (около 99%). Мы можем более точно высчитать процент неплатящих пользователей в наших группах. \n",
    "\n",
    "Для этого вычтем из 100% всех пользователей показатели конверсии в каждой из групп."
   ]
  },
  {
   "cell_type": "code",
   "execution_count": 87,
   "metadata": {},
   "outputs": [
    {
     "data": {
      "text/plain": [
       "(99.0, 99.1)"
      ]
     },
     "execution_count": 87,
     "metadata": {},
     "output_type": "execute_result"
    }
   ],
   "source": [
    "# процент неплатящих пользователей в контрольной и тестовой группах\n",
    "\n",
    "round (100 - conv_control, 1), round (100 - conv_test, 1)"
   ]
  },
  {
   "cell_type": "markdown",
   "metadata": {},
   "source": [
    "Посмотрим сколько это будет в абсолютных значениях."
   ]
  },
  {
   "cell_type": "code",
   "execution_count": 88,
   "metadata": {},
   "outputs": [
    {
     "data": {
      "text/plain": [
       "(200175, 200862)"
      ]
     },
     "execution_count": 88,
     "metadata": {},
     "output_type": "execute_result"
    }
   ],
   "source": [
    "# количество неплатящих пользователей в контрольной и тестовой группах\n",
    "\n",
    "df_control_u_rev.loc [df_control_u_rev == 0]. count (), df_test_u_rev.loc [df_test_u_rev == 0]. count ()"
   ]
  },
  {
   "cell_type": "markdown",
   "metadata": {},
   "source": [
    "Разобравшись с характером распределений, перейдем к проверке равенства их дисперсий с помощью теста Левена."
   ]
  },
  {
   "cell_type": "code",
   "execution_count": 89,
   "metadata": {},
   "outputs": [
    {
     "data": {
      "text/plain": [
       "LeveneResult(statistic=0.3896289474701388, pvalue=0.5324948591043842)"
      ]
     },
     "execution_count": 89,
     "metadata": {},
     "output_type": "execute_result"
    }
   ],
   "source": [
    "# реализуем тест Левена\n",
    "\n",
    "scipy.stats.levene (df_control_u_rev, df_test_u_rev, center = 'median') "
   ]
  },
  {
   "cell_type": "markdown",
   "metadata": {},
   "source": [
    "Тест Левена показал p-значение значительно выше критического уровня значимости 0.05, что не позволяет нам отклонить нулевую гипотезу об отстутствии сильных различий в дисперсиях распределений.\n",
    "\n",
    "Давайте более пристально посмотрим на различия стандартных отклонений наших распределений. Мы будем смотреть стандартные отклонения, а не дисперсию, поскольку дисперсия - это не что иное как квадрат стандартного отклонения, поэтому стандартные отклонения нагляднее показывают реальную меру изменчивости."
   ]
  },
  {
   "cell_type": "code",
   "execution_count": 90,
   "metadata": {},
   "outputs": [
    {
     "data": {
      "text/plain": [
       "(920.7681368333677, 287.32416166927845)"
      ]
     },
     "execution_count": 90,
     "metadata": {},
     "output_type": "execute_result"
    }
   ],
   "source": [
    "# рассчитываем стандартные отклонения обоих распределений\n",
    "\n",
    "df_control_u_rev.std (), df_test_u_rev.std ()"
   ]
  },
  {
   "cell_type": "code",
   "execution_count": 91,
   "metadata": {},
   "outputs": [
    {
     "data": {
      "text/plain": [
       "3.2"
      ]
     },
     "execution_count": 91,
     "metadata": {},
     "output_type": "execute_result"
    }
   ],
   "source": [
    "# рассчитываем кратную разницу стандартных отклонений обоих распределений с оруглением до десятых\n",
    "\n",
    "round (df_control_u_rev.std () / df_test_u_rev.std (), 1)"
   ]
  },
  {
   "cell_type": "markdown",
   "metadata": {},
   "source": [
    "Как видно, стандартные отклонения отличаются в три с лишним раза и эта разница не позволяет преодолеть альфа-уровень в тесте Левена.\n"
   ]
  },
  {
   "cell_type": "markdown",
   "metadata": {},
   "source": [
    "Несмотря на то, что доход в контрольной и тестовой группах распределены ненормально, дисперсии у групп сильно не отличаются и группы сопоставимы по размеру, поэтому мы все равно можем попробовать использовать двухвыборочный t-критерий Стьюдента (t-тест). Он проверяет стат.значимость различий выборочных средних двух групп, а это как раз то, что нам нужно для обоснованного вывода о стат.значимости изменений ARPU."
   ]
  },
  {
   "cell_type": "code",
   "execution_count": 92,
   "metadata": {},
   "outputs": [
    {
     "data": {
      "text/plain": [
       "Ttest_indResult(statistic=-0.6242026493616787, pvalue=0.532494858971837)"
      ]
     },
     "execution_count": 92,
     "metadata": {},
     "output_type": "execute_result"
    }
   ],
   "source": [
    "# реализуем t-тест\n",
    "\n",
    "scipy.stats.ttest_ind (df_control_u_rev, df_test_u_rev)"
   ]
  },
  {
   "cell_type": "markdown",
   "metadata": {},
   "source": [
    "Тест Стьюдента показал p-значение выше критического уровня значимости 0.05, что не позволяет нам отклонить нулевую гипотезу об отсутствии стат.значимости различий выборочных средних наших групп."
   ]
  },
  {
   "cell_type": "markdown",
   "metadata": {},
   "source": [
    "Так как у нас распределения с сильной дисперсией и выбросами и поскольку t-тест не устойчив к выбросам, мы можем прологарифмировать распределения для повышения чувствительности t-теста. В силу своих математических свойств логарифмирование позволит \"прижать\" выбросы к основному массиву данных. \n",
    "\n",
    "Однако в наших распределениях есть нули, поэтому для начала нам следует избавиться от них прибавлением единицы к данным, поскольку логарифм от нуля не определен."
   ]
  },
  {
   "cell_type": "code",
   "execution_count": 93,
   "metadata": {},
   "outputs": [],
   "source": [
    "# прибавляем единицу ко всем наблюдениям в обеих группах и записываем результаты в новые датафремы\n",
    "\n",
    "df_control_u_rev_adj = df_control_u_rev + 1\n",
    "df_test_u_rev_adj = df_test_u_rev + 1"
   ]
  },
  {
   "cell_type": "code",
   "execution_count": 94,
   "metadata": {},
   "outputs": [],
   "source": [
    "# логарифмируем распределения и записываем результаты в новые датафремы\n",
    "\n",
    "df_control_u_rev_log = np.log (df_control_u_rev_adj)\n",
    "df_test_u_rev_log = np.log (df_test_u_rev_adj)"
   ]
  },
  {
   "cell_type": "markdown",
   "metadata": {},
   "source": [
    "Давайте теперь оценим насколько нам удалось сократить дисперсию наших данных с помощью логарифмирования"
   ]
  },
  {
   "cell_type": "code",
   "execution_count": 95,
   "metadata": {},
   "outputs": [
    {
     "data": {
      "text/plain": [
       "<seaborn.axisgrid.FacetGrid at 0x7f1187d574a8>"
      ]
     },
     "execution_count": 95,
     "metadata": {},
     "output_type": "execute_result"
    },
    {
     "data": {
      "image/png": "[encoded data removed]",
      "text/plain": [
       "<Figure size 360x360 with 1 Axes>"
      ]
     },
     "metadata": {
      "needs_background": "light"
     },
     "output_type": "display_data"
    },
    {
     "data": {
      "image/png": "[encoded data removed]",
      "text/plain": [
       "<Figure size 360x360 with 1 Axes>"
      ]
     },
     "metadata": {
      "needs_background": "light"
     },
     "output_type": "display_data"
    }
   ],
   "source": [
    "# строим графики\n",
    "\n",
    "sns.displot (df_control_u_rev_log)\n",
    "sns.displot (df_test_u_rev_log)"
   ]
  },
  {
   "cell_type": "code",
   "execution_count": 96,
   "metadata": {},
   "outputs": [
    {
     "data": {
      "text/plain": [
       "(0.5952334744967485, 0.7508138449915979)"
      ]
     },
     "execution_count": 96,
     "metadata": {},
     "output_type": "execute_result"
    }
   ],
   "source": [
    "# рассчитываем стандартные отклонения\n",
    "\n",
    "df_control_u_rev_log.std (), df_test_u_rev_log.std ()"
   ]
  },
  {
   "cell_type": "markdown",
   "metadata": {},
   "source": [
    "Нам действительно удалось сократить дисперсию обоих распределений и сделать выбросы менее радикальными. \n",
    "\n",
    "Теперь реализуем тест Стьюдента на логарифмированных данных."
   ]
  },
  {
   "cell_type": "code",
   "execution_count": 97,
   "metadata": {},
   "outputs": [
    {
     "data": {
      "text/plain": [
       "Ttest_indResult(statistic=-6.5121724164204435, pvalue=7.415779073120386e-11)"
      ]
     },
     "execution_count": 97,
     "metadata": {},
     "output_type": "execute_result"
    }
   ],
   "source": [
    "scipy.stats.ttest_ind (df_control_u_rev_log, df_test_u_rev_log)"
   ]
  },
  {
   "cell_type": "markdown",
   "metadata": {},
   "source": [
    "Тест Стьюдента на логарифмированных данных показал стат.значимость различий в средних. Мы доверяем больше этому результату, так как t-тест часто ошибается при наличии сильных выбросов."
   ]
  },
  {
   "cell_type": "markdown",
   "metadata": {},
   "source": [
    "Итак, мы подтвердили стат.значимость различий в ARPU в контрольной и тестовой группах, теперь посчитаем их размер. Так как ARPU - это средний доход с пользователя, проще всего его посчитать усреднением дохода по всем пользователям, что мы и сделаем."
   ]
  },
  {
   "cell_type": "code",
   "execution_count": 98,
   "metadata": {},
   "outputs": [
    {
     "data": {
      "text/plain": [
       "25.41"
      ]
     },
     "execution_count": 98,
     "metadata": {},
     "output_type": "execute_result"
    }
   ],
   "source": [
    "# считаем ARPU в контрольной группе с округлением до сотых\n",
    "\n",
    "ARPU_control = round (df_control_u_rev. mean (), 2)\n",
    "ARPU_control"
   ]
  },
  {
   "cell_type": "code",
   "execution_count": 99,
   "metadata": {},
   "outputs": [
    {
     "data": {
      "text/plain": [
       "26.75"
      ]
     },
     "execution_count": 99,
     "metadata": {},
     "output_type": "execute_result"
    }
   ],
   "source": [
    "# считаем ARPU в тестовой группе с округлением до сотых\n",
    "\n",
    "ARPU_test = round (df_test_u_rev. mean (), 2)\n",
    "ARPU_test"
   ]
  },
  {
   "cell_type": "code",
   "execution_count": 100,
   "metadata": {},
   "outputs": [
    {
     "data": {
      "text/plain": [
       "5.3"
      ]
     },
     "execution_count": 100,
     "metadata": {},
     "output_type": "execute_result"
    }
   ],
   "source": [
    "# считаем прирост ARPU в процентах в тестовой группе с округлением до десятых\n",
    "\n",
    "round ((ARPU_test - ARPU_control) / (ARPU_control / 100), 1)"
   ]
  },
  {
   "cell_type": "markdown",
   "metadata": {},
   "source": [
    "Из условий задачи нам известно, что ARPU вырос на 5% и мы действительно получили в ходе наших расчетов подобное значение прироста."
   ]
  },
  {
   "cell_type": "markdown",
   "metadata": {},
   "source": [
    "Перейдем теперь к анализу статистической значимости и размера эффекта изменения нашей последней ключевой метрики - ARPPU или среднего дохода с платящего пользователя."
   ]
  },
  {
   "cell_type": "code",
   "execution_count": 101,
   "metadata": {},
   "outputs": [],
   "source": [
    "# создаем датафреймы с доходом с платящих пользоваталей в тестовой и контрольной группах\n",
    "\n",
    "df_test_pu = df_1.query ('testgroup == \"test\" & revenue !=0')\n",
    "df_control_pu = df_1.query ('testgroup == \"control\" & revenue !=0')"
   ]
  },
  {
   "cell_type": "code",
   "execution_count": 102,
   "metadata": {},
   "outputs": [
    {
     "data": {
      "text/plain": [
       "(1928, 1805)"
      ]
     },
     "execution_count": 102,
     "metadata": {},
     "output_type": "execute_result"
    }
   ],
   "source": [
    "# проверяем размеры этих групп\n",
    "\n",
    "df_control_pu.shape [0], df_test_pu.shape [0]"
   ]
  },
  {
   "cell_type": "code",
   "execution_count": 103,
   "metadata": {},
   "outputs": [],
   "source": [
    "# создаем для удобства расчётов датафреймы с доходами тестовой и контрольной групп\n",
    "\n",
    "df_test_pu_rev = df_test_pu.revenue\n",
    "df_control_pu_rev= df_control_pu.revenue"
   ]
  },
  {
   "cell_type": "markdown",
   "metadata": {},
   "source": [
    "Далее действуем по той же схеме, что и в случае анализа ARPU."
   ]
  },
  {
   "cell_type": "code",
   "execution_count": 104,
   "metadata": {},
   "outputs": [
    {
     "data": {
      "text/plain": [
       "[NormaltestResult(statistic=1394.9457843086925, pvalue=1.2341605505935488e-303),\n",
       " NormaltestResult(statistic=1068.8600084412267, pvalue=7.943249488371762e-233)]"
      ]
     },
     "execution_count": 104,
     "metadata": {},
     "output_type": "execute_result"
    }
   ],
   "source": [
    "# реализуем проверку распределений на нормальность\n",
    "\n",
    "[scipy.stats.normaltest (df_control_pu_rev), scipy.stats.normaltest (df_test_pu_rev)] "
   ]
  },
  {
   "cell_type": "markdown",
   "metadata": {},
   "source": [
    "Тест на нормальность рассчитал для обоих распределений p-значение сильно ниже критического уровня значимости 0.05, что позволяет нам отклонить нулевую гипотезу о нормальности распределений и принять альтернативную гипотезу о ненормальном характере распределений."
   ]
  },
  {
   "cell_type": "code",
   "execution_count": 105,
   "metadata": {},
   "outputs": [
    {
     "data": {
      "text/plain": [
       "<seaborn.axisgrid.FacetGrid at 0x7f118810a048>"
      ]
     },
     "execution_count": 105,
     "metadata": {},
     "output_type": "execute_result"
    },
    {
     "data": {
      "image/png": "[encoded data removed]",
      "text/plain": [
       "<Figure size 360x360 with 1 Axes>"
      ]
     },
     "metadata": {
      "needs_background": "light"
     },
     "output_type": "display_data"
    },
    {
     "data": {
      "image/png": "[encoded data removed]",
      "text/plain": [
       "<Figure size 360x360 with 1 Axes>"
      ]
     },
     "metadata": {
      "needs_background": "light"
     },
     "output_type": "display_data"
    }
   ],
   "source": [
    "# строим графики распределений групп\n",
    "\n",
    "sns.displot (df_control_pu_rev)\n",
    "sns.displot (df_test_pu_rev)"
   ]
  },
  {
   "cell_type": "markdown",
   "metadata": {},
   "source": [
    "Как видно из графиков, наши группы сильно отличаются по  форме распределений. В контрольной группе огромный размах в сумме покупки и бОльшая часть клиентов совершала покупки на небольшие суммы. В тестовой группе доход с клиентов распределен более компактно и в среднем клиенты чаще совершали покупки на бОльшие суммы, чем в контрольной группе. \n",
    "\n",
    "Исходя из графиков, мы можем предположить огромную разницу в мерах вариативности между двумя группами."
   ]
  },
  {
   "cell_type": "code",
   "execution_count": 106,
   "metadata": {},
   "outputs": [
    {
     "data": {
      "text/plain": [
       "LeveneResult(statistic=80.85567421779912, pvalue=3.779689868667878e-19)"
      ]
     },
     "execution_count": 106,
     "metadata": {},
     "output_type": "execute_result"
    }
   ],
   "source": [
    "# реализуем тест Левена\n",
    "\n",
    "scipy.stats.levene (df_control_pu_rev, df_test_pu_rev, center = 'median') "
   ]
  },
  {
   "cell_type": "markdown",
   "metadata": {},
   "source": [
    "Тест Левена показал p-значение сильно ниже критического уровня значимости 0.05, что позволяет нам отклонить нулевую гипотезу и принять альтернативную гипотезу о наличии стат.значимых различий в дисперсиях."
   ]
  },
  {
   "cell_type": "code",
   "execution_count": 107,
   "metadata": {},
   "outputs": [
    {
     "data": {
      "text/plain": [
       "(9049.039763414252, 572.6197093504265)"
      ]
     },
     "execution_count": 107,
     "metadata": {},
     "output_type": "execute_result"
    }
   ],
   "source": [
    "# рассчитываем стандартные отклонения обоих распределений\n",
    "\n",
    "df_control_pu_rev.std (), df_test_pu_rev.std ()"
   ]
  },
  {
   "cell_type": "code",
   "execution_count": 108,
   "metadata": {},
   "outputs": [
    {
     "data": {
      "text/plain": [
       "15.8"
      ]
     },
     "execution_count": 108,
     "metadata": {},
     "output_type": "execute_result"
    }
   ],
   "source": [
    "# рассчитываем кратную разницу стандартных отклонений обоих распределений с округлением до десятых\n",
    "\n",
    "round (df_control_pu_rev.std () / df_test_pu_rev.std (), 1)"
   ]
  },
  {
   "cell_type": "markdown",
   "metadata": {},
   "source": [
    "Как видно, стандартные отклонения отличаются почти в 16 раз, и эта огроммная разница однозначно позволяет преодолеть альфа-уровень в тесте Левена."
   ]
  },
  {
   "cell_type": "markdown",
   "metadata": {},
   "source": [
    "Несмотря на то, что доход в контрольной и тестовой группах распределены ненормально и дисперсии у групп сильно отличаются, группы сопоставимы по размеру, поэтому мы все равно можем попробовать использовать t-тест, но с поправкой Уэлча на неравные дисперсии."
   ]
  },
  {
   "cell_type": "code",
   "execution_count": 109,
   "metadata": {},
   "outputs": [
    {
     "data": {
      "text/plain": [
       "Ttest_indResult(statistic=-1.6446302664300838, pvalue=0.10020780398916015)"
      ]
     },
     "execution_count": 109,
     "metadata": {},
     "output_type": "execute_result"
    }
   ],
   "source": [
    "# рассчитываем t-test c поправкой Уэлча\n",
    "\n",
    "scipy.stats.ttest_ind (df_control_pu_rev, df_test_pu_rev, equal_var = False)"
   ]
  },
  {
   "cell_type": "markdown",
   "metadata": {},
   "source": [
    "Как мы видим, поправка Уэлча на неравенство дисперсий все равно не позволила преодолеть альфа-уровень значимости и отклонить нулевую гипотезу."
   ]
  },
  {
   "cell_type": "markdown",
   "metadata": {},
   "source": [
    "Как мы видели из графиков, в контрольной группе присутствуют большие выбросы, поэтому попробуем снова прологарифмировать наши распределения.\n",
    "\n",
    "Так как в наших распределениях нет нулей (все юзеры - платящие), то единицу прибавлять не надо."
   ]
  },
  {
   "cell_type": "code",
   "execution_count": 111,
   "metadata": {},
   "outputs": [],
   "source": [
    "# логарифмируем распределения и записываем результаты в новые датафремы\n",
    "\n",
    "df_control_pu_rev_log = np.log (df_control_pu_rev)\n",
    "df_test_pu_rev_log = np.log (df_test_pu_rev)"
   ]
  },
  {
   "cell_type": "code",
   "execution_count": 112,
   "metadata": {},
   "outputs": [
    {
     "data": {
      "text/plain": [
       "<seaborn.axisgrid.FacetGrid at 0x7f1188118978>"
      ]
     },
     "execution_count": 112,
     "metadata": {},
     "output_type": "execute_result"
    },
    {
     "data": {
      "image/png": "[encoded data removed]",
      "text/plain": [
       "<Figure size 360x360 with 1 Axes>"
      ]
     },
     "metadata": {
      "needs_background": "light"
     },
     "output_type": "display_data"
    },
    {
     "data": {
      "image/png": "[encoded data removed]",
      "text/plain": [
       "<Figure size 360x360 with 1 Axes>"
      ]
     },
     "metadata": {
      "needs_background": "light"
     },
     "output_type": "display_data"
    }
   ],
   "source": [
    "# строим графики\n",
    "\n",
    "sns.displot (df_control_pu_rev_log)\n",
    "sns.displot (df_test_pu_rev_log)"
   ]
  },
  {
   "cell_type": "code",
   "execution_count": 113,
   "metadata": {},
   "outputs": [
    {
     "data": {
      "text/plain": [
       "(1.1972568747781691, 0.19664519799942098)"
      ]
     },
     "execution_count": 113,
     "metadata": {},
     "output_type": "execute_result"
    }
   ],
   "source": [
    "# рассчитываем стандартные отклонения\n",
    "\n",
    "df_control_pu_rev_log.std (), df_test_pu_rev_log.std ()"
   ]
  },
  {
   "cell_type": "markdown",
   "metadata": {},
   "source": [
    "Нам вновь удалось сократить дисперсию обоих распределений и сделать выбросы менее радикальными.\n",
    "\n",
    "Теперь реализуем тест Стьюдента на логарифмированных данных."
   ]
  },
  {
   "cell_type": "code",
   "execution_count": 82,
   "metadata": {},
   "outputs": [
    {
     "data": {
      "text/plain": [
       "Ttest_indResult(statistic=-69.65186591961508, pvalue=0.0)"
      ]
     },
     "execution_count": 82,
     "metadata": {},
     "output_type": "execute_result"
    }
   ],
   "source": [
    "scipy.stats.ttest_ind (df_control_pu_rev_log, df_test_pu_rev_log)"
   ]
  },
  {
   "cell_type": "markdown",
   "metadata": {},
   "source": [
    "Тест Стьюдента на логарифмированных данных показал стат.значимость различий в средних. Мы снова доверяем больше этому результату, так как t-тест часто ошибается при наличии сильных выбросов."
   ]
  },
  {
   "cell_type": "markdown",
   "metadata": {},
   "source": [
    "Итак, мы подтвердили стат.значимость различий в ARPPU в контрольной и тестовой группах, теперь посчитаем их размер. Так как ARPPU - это средний доход c платящего пользователя, проще всего его посчитать усреднением прибыли со всех платящих пользователей, что мы и сделаем."
   ]
  },
  {
   "cell_type": "code",
   "execution_count": 114,
   "metadata": {},
   "outputs": [
    {
     "data": {
      "text/plain": [
       "2664.0"
      ]
     },
     "execution_count": 114,
     "metadata": {},
     "output_type": "execute_result"
    }
   ],
   "source": [
    "# считаем ARPPU в контрольной группе с округлением до сотых\n",
    "\n",
    "ARPPU_control = round (df_control_pu_rev. mean (), 2) \n",
    "ARPPU_control"
   ]
  },
  {
   "cell_type": "code",
   "execution_count": 115,
   "metadata": {},
   "outputs": [
    {
     "data": {
      "text/plain": [
       "3003.66"
      ]
     },
     "execution_count": 115,
     "metadata": {},
     "output_type": "execute_result"
    }
   ],
   "source": [
    "# считаем ARPPU в тестовой группе с округлением до сотых\n",
    "\n",
    "ARPPU_test = round (df_test_pu.revenue. mean (), 2)\n",
    "ARPPU_test"
   ]
  },
  {
   "cell_type": "code",
   "execution_count": 116,
   "metadata": {},
   "outputs": [
    {
     "data": {
      "text/plain": [
       "12.7"
      ]
     },
     "execution_count": 116,
     "metadata": {},
     "output_type": "execute_result"
    }
   ],
   "source": [
    "# считаем прирост ARPPU в процентах в тестовой группе с округлением до дестяых\n",
    "\n",
    "round ((ARPPU_test - ARPPU_control) / (ARPPU_control / 100), 1)"
   ]
  },
  {
   "cell_type": "markdown",
   "metadata": {},
   "source": [
    "Мы могли бы посчитать ARPPU по-другому, умножив коэффициент повторных покупок на средний чек. Давайте ради интереса проверим, есть ли в наших контрольных и тестовых группах повторные покупки. Выясним это посредством проверки того, совпадает ли количество уникальных айди с количеством всех айди, то есть проверим, не повторяются ли айди несколько раз в наших группах."
   ]
  },
  {
   "cell_type": "code",
   "execution_count": 117,
   "metadata": {},
   "outputs": [
    {
     "data": {
      "text/plain": [
       "(True, True)"
      ]
     },
     "execution_count": 117,
     "metadata": {},
     "output_type": "execute_result"
    }
   ],
   "source": [
    "# проверяем для обеих групп\n",
    "\n",
    "df_control_pu.user_id.nunique () == df_control_pu.user_id.count (), \\\n",
    "df_test_pu.user_id.nunique () == df_test_pu.user_id.count ()"
   ]
  },
  {
   "cell_type": "markdown",
   "metadata": {},
   "source": [
    "Таким образом, мы выяснили, что в наших группах повторных покупок нет, поскольку количество уникальных айди совпадает с их общим количеством."
   ]
  },
  {
   "cell_type": "markdown",
   "metadata": {},
   "source": [
    "**Вывод:** Итак, мы сравнили три ключевые метрики - конверсию, ARPU и ARPPU. Конверсия стат.значимо, но незначительно упала в тестовой группе. Однако малое падение конверсии (-0.06%) с лихвой перекрывается немалым стат.значимым ростом и ARPPU (+12,7%) и ARPU (+5,3%) в тестовой группе.\n",
    "\n",
    "Таким образом, мы рекомендуем раскатывать тестовый набор акционных предложений на всех пользователей."
   ]
  },
  {
   "cell_type": "markdown",
   "metadata": {},
   "source": [
    "-----------\n",
    "**Задание 3**\n",
    "\n",
    "В игре Plants & Gardens каждый месяц проводятся тематические события, ограниченные по времени. В них игроки могут получить уникальные предметы для сада и персонажей, дополнительные монеты или бонусы. Для получения награды требуется пройти ряд уровней за определенное время. С помощью каких метрик можно оценить результаты последнего прошедшего события?\n",
    "\n",
    "Предположим, в другом событии мы усложнили механику событий так, что при каждой неудачной попытке выполнения уровня игрок будет откатываться на несколько уровней назад. Изменится ли набор метрик оценки результата? Если да, то как?"
   ]
  },
  {
   "cell_type": "markdown",
   "metadata": {},
   "source": [
    "1. Начнем с первого события. Игровые события - это сложные явления, которые можно анализировать с разных сторон. Мы будем оценивать результаты прошедшего события с помощью следующих метрик:\n",
    "\n",
    "    - *DAU и WAU*: метрика, показывающая количество активных игроков в день/неделю. Мы предполагаем, что в неделю и дни, когда проходит событие количество активных игроков повысится, особенно если мы настроили пуш-уведомления о событии игрокам. Мы можем сравнить эти метрики с аналогичными показателями событий предыдущих месяцов. Это поможет нам косвенно выяснить насколько интересным было игровое событие этого месяца;  \n",
    "    - *Уровень участия*: метрика, показывающая, сколько игроков приняло участие в событии. Она показывает привлекательность игрового события для игроков и может быть измерена в процентах от общего числа DAU или в абсолютном числе игроков. Мы можем сравнить эту метрику с показателями прошлых месяцов. Это поможет нам напрямую выяснить, насколько интересным было игровое событие этого месяца; \n",
    "    - *Конверсия в получение награды*: метрика, отражающая сколько игроков достигли целей события и получили награды. Она вычисляется как отношение числа игроков, получивших награды к общему числу игроков, принявших участие в событии. Мы можем сравнить эту метрику с показателями прошлых месяцев. Это поможет нам выяснить, насколько привлекательными были награды в этом месяце, а так же косвенно выяснить, насколько сложным было событие с точки зрения игровых механик (если уровни были сложными и времени на их прохождение давалось мало, то можно предположить, что игроков, дошедших до конца будет меньше); \n",
    "    - *Average Session Duration*: метрика, показывающая среднюю длительность игровых сессий. Она вычисляется как отношение суммарной продолжительность сессий за определенный период к общему количество сессий за тот же период. Мы предполагаем, что ASD во время игрового события увеличится, так как игроки будут проводить больше времени в приложении, пытаясь его пройти. Эта метрика отражает вовлеченность игроков в игровое событие. Можно сравнить метрику с аналогичными показателями за прошлые месяцы, чтобы выяснить насколько интересным является последнее событие для игроков;\n",
    "    - *ARPPU*: метрика, показывающая средний доход с платящего пользователя. Мы предполагаем, что во время игрового события она повысится, так как во время его прохождения ряд игроков скорее всего будет покупать бонусы для более легкого и быстрого прохождения уровней. Мы можем сравнить ее с показателями прошлых месяцев, чтобы выяснить, насколько привлекательными были награды последнего игрового события для игроков;\n",
    "    - *Churn rate*: метрика, показывающая отток пользователей из нашей игры. Мы рассчитаем ее отткалкиваясь от числа пользователей на начало события (С1), числа новых пользователей за период (С2) и числа пользователей на конец события (С3): (С1+С2)-С3/С1*100%. Если эта метрика вырастет по отношению к событиям прошлых месяцев, это может означать, что пользователям надоела существующая механика игровых событий и нам нужно менять их механику либо награды не достаточно ценны, чтобы мотивировать игроков принять участие в событии и нам нужно повысить их ценность."
   ]
  },
  {
   "cell_type": "markdown",
   "metadata": {},
   "source": [
    "2. Во втором событии мы усложнили игровую механику события, добавив откат на несколько уровней назад при неудачном прохождении уровня. Наши метрики остались теми же, но изменились наши ожидания относительно них:\n",
    "\n",
    "    - *DAU/WAU и Уровень участия*: если мы смогли донести до игроков ценность нового игрового события, то эти метрики скорее всего повысятся по отношению к первому событию, так как новизна и челленедж привлекают людей;\n",
    "    - *Конверсия в получение награды*: эта метрика скорее всего просядет, так как игровая механика усложнилась. Если она просядет значительно, это значит, что новая игровая механика слишком сложна для игроков или награда не представляет для них особой ценности. Если же метрика просядет незначительно, это значит, что игроки в целом справляются с новой игровой механикой или они замотивированы игровой наградой и наше событие прошло успешно;\n",
    "    - *Average Session Duration*: эта метрика скорее всего увеличится, так как игрокам придется перепроходить уровни, возможно, и не по одному разу. Если эта метрика вырастет умеренно, то это укладывается в наши ожидания от усложнения игровой механики. Однако если она вырастет слишком сильно, то это может служить индикатором, что новая механика слишком сложна для большинства наших игроков и нам следует упростить её;\n",
    "    - *ARPPU*: эта метрика скорее всего вырастет, поскольку игроки будут тратить больше бонусов, чтобы справиться с усложненной игровой механикой. Если эта метрика вырастет значительно, это значит, что игровое событие интересно для наших пользователей и награда ценна и они готовы инвестировать свои средства в его прохождение и получение награды;\n",
    "    - *Churn rate*: эта метрика скорее всего немного вырастет из-за усложнения игровой механики события. Если она вырастет значительно, это может означать, что новая механика слишком сложна для значительной части наших игроков и нам нужно снизить её сложность или повысить ценность награды.\n",
    "    \n",
    "    \n"
   ]
  },
  {
   "cell_type": "markdown",
   "metadata": {},
   "source": [
    "Спасибо за внимание! :)"
   ]
  }
 ],
 "metadata": {
  "kernelspec": {
   "display_name": "Python 3",
   "language": "python",
   "name": "python3"
  },
  "language_info": {
   "codemirror_mode": {
    "name": "ipython",
    "version": 3
   },
   "file_extension": ".py",
   "mimetype": "text/x-python",
   "name": "python",
   "nbconvert_exporter": "python",
   "pygments_lexer": "ipython3",
   "version": "3.7.3"
  }
 },
 "nbformat": 4,
 "nbformat_minor": 4
}
